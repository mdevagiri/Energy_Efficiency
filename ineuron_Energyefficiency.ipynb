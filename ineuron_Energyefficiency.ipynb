{
 "cells": [
  {
   "cell_type": "raw",
   "id": "5d39b73b",
   "metadata": {},
   "source": [
    "# The project performs energy analysis using 12 different building shapes. The buildings differ with respect to the glazing area, the glazing area distribution, and the orientation, amongst other parameters. The dataset comprises 768 samples and 8 features. Our aim to predict two real valued responses.\n",
    "The dataset contains eight attributes and two responces.\n",
    "X1=Relative Compactness \n",
    "X2=Surface Area\n",
    "X3=Wall Area\n",
    "X4=Roof Area\n",
    "X5=Overall Height\n",
    "X6=Orientation\n",
    "X7=Glazing Area\n",
    "X8=Glazing Area Distribution\n",
    "Y1=Heating Load\n",
    "Y2=Cooling Load"
   ]
  },
  {
   "cell_type": "code",
   "execution_count": 226,
   "id": "b06fd390",
   "metadata": {},
   "outputs": [],
   "source": [
    "import pandas as pd\n",
    "import numpy as np\n",
    "import matplotlib.pyplot as plt\n",
    "import seaborn as sns\n",
    "from sklearn.model_selection import train_test_split\n",
    "from sklearn.linear_model import LinearRegression\n",
    "from sklearn.metrics import accuracy_score\n",
    "from sklearn.model_selection import KFold\n",
    "from sklearn.model_selection import cross_val_score\n",
    "from sklearn.model_selection import cross_val_predict\n",
    "from sklearn.metrics import confusion_matrix\n",
    "%matplotlib inline\n",
    "import warnings\n",
    "warnings.filterwarnings(\"ignore\")"
   ]
  },
  {
   "cell_type": "code",
   "execution_count": 227,
   "id": "8f1459af",
   "metadata": {},
   "outputs": [
    {
     "data": {
      "text/html": [
       "<div>\n",
       "<style scoped>\n",
       "    .dataframe tbody tr th:only-of-type {\n",
       "        vertical-align: middle;\n",
       "    }\n",
       "\n",
       "    .dataframe tbody tr th {\n",
       "        vertical-align: top;\n",
       "    }\n",
       "\n",
       "    .dataframe thead th {\n",
       "        text-align: right;\n",
       "    }\n",
       "</style>\n",
       "<table border=\"1\" class=\"dataframe\">\n",
       "  <thead>\n",
       "    <tr style=\"text-align: right;\">\n",
       "      <th></th>\n",
       "      <th>X1</th>\n",
       "      <th>X2</th>\n",
       "      <th>X3</th>\n",
       "      <th>X4</th>\n",
       "      <th>X5</th>\n",
       "      <th>X6</th>\n",
       "      <th>X7</th>\n",
       "      <th>X8</th>\n",
       "      <th>Y1</th>\n",
       "      <th>Y2</th>\n",
       "      <th>Unnamed: 10</th>\n",
       "      <th>Unnamed: 11</th>\n",
       "    </tr>\n",
       "  </thead>\n",
       "  <tbody>\n",
       "    <tr>\n",
       "      <th>0</th>\n",
       "      <td>0.98</td>\n",
       "      <td>514.5</td>\n",
       "      <td>294.0</td>\n",
       "      <td>110.25</td>\n",
       "      <td>7.0</td>\n",
       "      <td>2</td>\n",
       "      <td>0.0</td>\n",
       "      <td>0</td>\n",
       "      <td>15.55</td>\n",
       "      <td>21.33</td>\n",
       "      <td>NaN</td>\n",
       "      <td>NaN</td>\n",
       "    </tr>\n",
       "    <tr>\n",
       "      <th>1</th>\n",
       "      <td>0.98</td>\n",
       "      <td>514.5</td>\n",
       "      <td>294.0</td>\n",
       "      <td>110.25</td>\n",
       "      <td>7.0</td>\n",
       "      <td>3</td>\n",
       "      <td>0.0</td>\n",
       "      <td>0</td>\n",
       "      <td>15.55</td>\n",
       "      <td>21.33</td>\n",
       "      <td>NaN</td>\n",
       "      <td>NaN</td>\n",
       "    </tr>\n",
       "    <tr>\n",
       "      <th>2</th>\n",
       "      <td>0.98</td>\n",
       "      <td>514.5</td>\n",
       "      <td>294.0</td>\n",
       "      <td>110.25</td>\n",
       "      <td>7.0</td>\n",
       "      <td>4</td>\n",
       "      <td>0.0</td>\n",
       "      <td>0</td>\n",
       "      <td>15.55</td>\n",
       "      <td>21.33</td>\n",
       "      <td>NaN</td>\n",
       "      <td>NaN</td>\n",
       "    </tr>\n",
       "    <tr>\n",
       "      <th>3</th>\n",
       "      <td>0.98</td>\n",
       "      <td>514.5</td>\n",
       "      <td>294.0</td>\n",
       "      <td>110.25</td>\n",
       "      <td>7.0</td>\n",
       "      <td>5</td>\n",
       "      <td>0.0</td>\n",
       "      <td>0</td>\n",
       "      <td>15.55</td>\n",
       "      <td>21.33</td>\n",
       "      <td>NaN</td>\n",
       "      <td>NaN</td>\n",
       "    </tr>\n",
       "    <tr>\n",
       "      <th>4</th>\n",
       "      <td>0.90</td>\n",
       "      <td>563.5</td>\n",
       "      <td>318.5</td>\n",
       "      <td>122.50</td>\n",
       "      <td>7.0</td>\n",
       "      <td>2</td>\n",
       "      <td>0.0</td>\n",
       "      <td>0</td>\n",
       "      <td>20.84</td>\n",
       "      <td>28.28</td>\n",
       "      <td>NaN</td>\n",
       "      <td>NaN</td>\n",
       "    </tr>\n",
       "  </tbody>\n",
       "</table>\n",
       "</div>"
      ],
      "text/plain": [
       "     X1     X2     X3      X4   X5  X6   X7  X8     Y1     Y2  Unnamed: 10  \\\n",
       "0  0.98  514.5  294.0  110.25  7.0   2  0.0   0  15.55  21.33          NaN   \n",
       "1  0.98  514.5  294.0  110.25  7.0   3  0.0   0  15.55  21.33          NaN   \n",
       "2  0.98  514.5  294.0  110.25  7.0   4  0.0   0  15.55  21.33          NaN   \n",
       "3  0.98  514.5  294.0  110.25  7.0   5  0.0   0  15.55  21.33          NaN   \n",
       "4  0.90  563.5  318.5  122.50  7.0   2  0.0   0  20.84  28.28          NaN   \n",
       "\n",
       "   Unnamed: 11  \n",
       "0          NaN  \n",
       "1          NaN  \n",
       "2          NaN  \n",
       "3          NaN  \n",
       "4          NaN  "
      ]
     },
     "execution_count": 227,
     "metadata": {},
     "output_type": "execute_result"
    }
   ],
   "source": [
    "data= pd.read_excel(\"ENB2012_data.xlsx\") # load data\n",
    "data.head()"
   ]
  },
  {
   "cell_type": "code",
   "execution_count": 228,
   "id": "a4633ff0",
   "metadata": {},
   "outputs": [
    {
     "data": {
      "text/html": [
       "<div>\n",
       "<style scoped>\n",
       "    .dataframe tbody tr th:only-of-type {\n",
       "        vertical-align: middle;\n",
       "    }\n",
       "\n",
       "    .dataframe tbody tr th {\n",
       "        vertical-align: top;\n",
       "    }\n",
       "\n",
       "    .dataframe thead th {\n",
       "        text-align: right;\n",
       "    }\n",
       "</style>\n",
       "<table border=\"1\" class=\"dataframe\">\n",
       "  <thead>\n",
       "    <tr style=\"text-align: right;\">\n",
       "      <th></th>\n",
       "      <th>X1</th>\n",
       "      <th>X2</th>\n",
       "      <th>X3</th>\n",
       "      <th>X4</th>\n",
       "      <th>X5</th>\n",
       "      <th>X6</th>\n",
       "      <th>X7</th>\n",
       "      <th>X8</th>\n",
       "      <th>Y1</th>\n",
       "      <th>Y2</th>\n",
       "    </tr>\n",
       "  </thead>\n",
       "  <tbody>\n",
       "    <tr>\n",
       "      <th>0</th>\n",
       "      <td>0.98</td>\n",
       "      <td>514.5</td>\n",
       "      <td>294.0</td>\n",
       "      <td>110.25</td>\n",
       "      <td>7.0</td>\n",
       "      <td>2</td>\n",
       "      <td>0.0</td>\n",
       "      <td>0</td>\n",
       "      <td>15.55</td>\n",
       "      <td>21.33</td>\n",
       "    </tr>\n",
       "    <tr>\n",
       "      <th>1</th>\n",
       "      <td>0.98</td>\n",
       "      <td>514.5</td>\n",
       "      <td>294.0</td>\n",
       "      <td>110.25</td>\n",
       "      <td>7.0</td>\n",
       "      <td>3</td>\n",
       "      <td>0.0</td>\n",
       "      <td>0</td>\n",
       "      <td>15.55</td>\n",
       "      <td>21.33</td>\n",
       "    </tr>\n",
       "    <tr>\n",
       "      <th>2</th>\n",
       "      <td>0.98</td>\n",
       "      <td>514.5</td>\n",
       "      <td>294.0</td>\n",
       "      <td>110.25</td>\n",
       "      <td>7.0</td>\n",
       "      <td>4</td>\n",
       "      <td>0.0</td>\n",
       "      <td>0</td>\n",
       "      <td>15.55</td>\n",
       "      <td>21.33</td>\n",
       "    </tr>\n",
       "    <tr>\n",
       "      <th>3</th>\n",
       "      <td>0.98</td>\n",
       "      <td>514.5</td>\n",
       "      <td>294.0</td>\n",
       "      <td>110.25</td>\n",
       "      <td>7.0</td>\n",
       "      <td>5</td>\n",
       "      <td>0.0</td>\n",
       "      <td>0</td>\n",
       "      <td>15.55</td>\n",
       "      <td>21.33</td>\n",
       "    </tr>\n",
       "    <tr>\n",
       "      <th>4</th>\n",
       "      <td>0.90</td>\n",
       "      <td>563.5</td>\n",
       "      <td>318.5</td>\n",
       "      <td>122.50</td>\n",
       "      <td>7.0</td>\n",
       "      <td>2</td>\n",
       "      <td>0.0</td>\n",
       "      <td>0</td>\n",
       "      <td>20.84</td>\n",
       "      <td>28.28</td>\n",
       "    </tr>\n",
       "  </tbody>\n",
       "</table>\n",
       "</div>"
      ],
      "text/plain": [
       "     X1     X2     X3      X4   X5  X6   X7  X8     Y1     Y2\n",
       "0  0.98  514.5  294.0  110.25  7.0   2  0.0   0  15.55  21.33\n",
       "1  0.98  514.5  294.0  110.25  7.0   3  0.0   0  15.55  21.33\n",
       "2  0.98  514.5  294.0  110.25  7.0   4  0.0   0  15.55  21.33\n",
       "3  0.98  514.5  294.0  110.25  7.0   5  0.0   0  15.55  21.33\n",
       "4  0.90  563.5  318.5  122.50  7.0   2  0.0   0  20.84  28.28"
      ]
     },
     "execution_count": 228,
     "metadata": {},
     "output_type": "execute_result"
    }
   ],
   "source": [
    "data=data.drop(columns =['Unnamed: 10','Unnamed: 11']) #drop the unwanted coloumns\n",
    "data.head()"
   ]
  },
  {
   "cell_type": "code",
   "execution_count": 229,
   "id": "1a6440f8",
   "metadata": {},
   "outputs": [
    {
     "data": {
      "text/plain": [
       "X1    0\n",
       "X2    0\n",
       "X3    0\n",
       "X4    0\n",
       "X5    0\n",
       "X6    0\n",
       "X7    0\n",
       "X8    0\n",
       "Y1    0\n",
       "Y2    0\n",
       "dtype: int64"
      ]
     },
     "execution_count": 229,
     "metadata": {},
     "output_type": "execute_result"
    }
   ],
   "source": [
    "data.isnull().sum()   #checking for any null values."
   ]
  },
  {
   "cell_type": "code",
   "execution_count": 230,
   "id": "38794f5b",
   "metadata": {},
   "outputs": [
    {
     "name": "stdout",
     "output_type": "stream",
     "text": [
      "<class 'pandas.core.frame.DataFrame'>\n",
      "RangeIndex: 768 entries, 0 to 767\n",
      "Data columns (total 10 columns):\n",
      " #   Column  Non-Null Count  Dtype  \n",
      "---  ------  --------------  -----  \n",
      " 0   X1      768 non-null    float64\n",
      " 1   X2      768 non-null    float64\n",
      " 2   X3      768 non-null    float64\n",
      " 3   X4      768 non-null    float64\n",
      " 4   X5      768 non-null    float64\n",
      " 5   X6      768 non-null    int64  \n",
      " 6   X7      768 non-null    float64\n",
      " 7   X8      768 non-null    int64  \n",
      " 8   Y1      768 non-null    float64\n",
      " 9   Y2      768 non-null    float64\n",
      "dtypes: float64(8), int64(2)\n",
      "memory usage: 60.1 KB\n"
     ]
    }
   ],
   "source": [
    "data.info()"
   ]
  },
  {
   "cell_type": "markdown",
   "id": "419117e4",
   "metadata": {},
   "source": [
    "Plot to see if any outliers are present!"
   ]
  },
  {
   "cell_type": "code",
   "execution_count": 231,
   "id": "5f37a621",
   "metadata": {},
   "outputs": [
    {
     "data": {
      "text/plain": [
       "Text(0.5, 1.0, 'Glazing Area Distribution')"
      ]
     },
     "execution_count": 231,
     "metadata": {},
     "output_type": "execute_result"
    },
    {
     "data": {
      "image/png": "[encoded data removed]",
      "text/plain": [
       "<Figure size 1440x1080 with 6 Axes>"
      ]
     },
     "metadata": {
      "needs_background": "light"
     },
     "output_type": "display_data"
    }
   ],
   "source": [
    "plt.figure(figsize = (20, 15))\n",
    "\n",
    "ax = plt.subplot(231)\n",
    "plt.boxplot(data.X1)\n",
    "ax.set_title('Relative compactness')\n",
    "\n",
    "ax = plt.subplot(232)\n",
    "plt.boxplot(data.X2)\n",
    "ax.set_title('Surface Area')\n",
    "\n",
    "ax = plt.subplot(233)\n",
    "plt.boxplot(data.X3)\n",
    "ax.set_title('Wall Area')\n",
    "\n",
    "ax = plt.subplot(234)\n",
    "plt.boxplot(data.X4)\n",
    "ax.set_title('Roof Area')\n",
    "\n",
    "ax = plt.subplot(235)\n",
    "plt.boxplot(data.X5)\n",
    "ax.set_title('Overall Height')\n",
    "\n",
    "ax = plt.subplot(236)\n",
    "plt.boxplot(data.X7)\n",
    "ax.set_title('Glazing Area Distribution')"
   ]
  },
  {
   "cell_type": "code",
   "execution_count": 232,
   "id": "cf742427",
   "metadata": {},
   "outputs": [
    {
     "data": {
      "text/html": [
       "<div>\n",
       "<style scoped>\n",
       "    .dataframe tbody tr th:only-of-type {\n",
       "        vertical-align: middle;\n",
       "    }\n",
       "\n",
       "    .dataframe tbody tr th {\n",
       "        vertical-align: top;\n",
       "    }\n",
       "\n",
       "    .dataframe thead th {\n",
       "        text-align: right;\n",
       "    }\n",
       "</style>\n",
       "<table border=\"1\" class=\"dataframe\">\n",
       "  <thead>\n",
       "    <tr style=\"text-align: right;\">\n",
       "      <th></th>\n",
       "      <th>X1</th>\n",
       "      <th>X2</th>\n",
       "      <th>X3</th>\n",
       "      <th>X4</th>\n",
       "      <th>X5</th>\n",
       "      <th>X6</th>\n",
       "      <th>X7</th>\n",
       "      <th>X8</th>\n",
       "      <th>Y1</th>\n",
       "      <th>Y2</th>\n",
       "    </tr>\n",
       "  </thead>\n",
       "  <tbody>\n",
       "    <tr>\n",
       "      <th>0</th>\n",
       "      <td>0.98</td>\n",
       "      <td>514.5</td>\n",
       "      <td>294.0</td>\n",
       "      <td>110.25</td>\n",
       "      <td>7.0</td>\n",
       "      <td>2</td>\n",
       "      <td>0.0</td>\n",
       "      <td>0</td>\n",
       "      <td>15.55</td>\n",
       "      <td>21.33</td>\n",
       "    </tr>\n",
       "    <tr>\n",
       "      <th>1</th>\n",
       "      <td>0.98</td>\n",
       "      <td>514.5</td>\n",
       "      <td>294.0</td>\n",
       "      <td>110.25</td>\n",
       "      <td>7.0</td>\n",
       "      <td>3</td>\n",
       "      <td>0.0</td>\n",
       "      <td>0</td>\n",
       "      <td>15.55</td>\n",
       "      <td>21.33</td>\n",
       "    </tr>\n",
       "    <tr>\n",
       "      <th>2</th>\n",
       "      <td>0.98</td>\n",
       "      <td>514.5</td>\n",
       "      <td>294.0</td>\n",
       "      <td>110.25</td>\n",
       "      <td>7.0</td>\n",
       "      <td>4</td>\n",
       "      <td>0.0</td>\n",
       "      <td>0</td>\n",
       "      <td>15.55</td>\n",
       "      <td>21.33</td>\n",
       "    </tr>\n",
       "    <tr>\n",
       "      <th>3</th>\n",
       "      <td>0.98</td>\n",
       "      <td>514.5</td>\n",
       "      <td>294.0</td>\n",
       "      <td>110.25</td>\n",
       "      <td>7.0</td>\n",
       "      <td>5</td>\n",
       "      <td>0.0</td>\n",
       "      <td>0</td>\n",
       "      <td>15.55</td>\n",
       "      <td>21.33</td>\n",
       "    </tr>\n",
       "    <tr>\n",
       "      <th>4</th>\n",
       "      <td>0.90</td>\n",
       "      <td>563.5</td>\n",
       "      <td>318.5</td>\n",
       "      <td>122.50</td>\n",
       "      <td>7.0</td>\n",
       "      <td>2</td>\n",
       "      <td>0.0</td>\n",
       "      <td>0</td>\n",
       "      <td>20.84</td>\n",
       "      <td>28.28</td>\n",
       "    </tr>\n",
       "  </tbody>\n",
       "</table>\n",
       "</div>"
      ],
      "text/plain": [
       "     X1     X2     X3      X4   X5  X6   X7  X8     Y1     Y2\n",
       "0  0.98  514.5  294.0  110.25  7.0   2  0.0   0  15.55  21.33\n",
       "1  0.98  514.5  294.0  110.25  7.0   3  0.0   0  15.55  21.33\n",
       "2  0.98  514.5  294.0  110.25  7.0   4  0.0   0  15.55  21.33\n",
       "3  0.98  514.5  294.0  110.25  7.0   5  0.0   0  15.55  21.33\n",
       "4  0.90  563.5  318.5  122.50  7.0   2  0.0   0  20.84  28.28"
      ]
     },
     "execution_count": 232,
     "metadata": {},
     "output_type": "execute_result"
    }
   ],
   "source": [
    "#data.drop(\"Y1\",axis=1,inplace=True)   # We have to calculate for cooling Load, so we drop column for heating Load.\n",
    "data.head()"
   ]
  },
  {
   "cell_type": "code",
   "execution_count": 233,
   "id": "565eb870",
   "metadata": {},
   "outputs": [
    {
     "data": {
      "text/html": [
       "<div>\n",
       "<style scoped>\n",
       "    .dataframe tbody tr th:only-of-type {\n",
       "        vertical-align: middle;\n",
       "    }\n",
       "\n",
       "    .dataframe tbody tr th {\n",
       "        vertical-align: top;\n",
       "    }\n",
       "\n",
       "    .dataframe thead th {\n",
       "        text-align: right;\n",
       "    }\n",
       "</style>\n",
       "<table border=\"1\" class=\"dataframe\">\n",
       "  <thead>\n",
       "    <tr style=\"text-align: right;\">\n",
       "      <th></th>\n",
       "      <th>X1</th>\n",
       "      <th>X2</th>\n",
       "      <th>X3</th>\n",
       "      <th>X4</th>\n",
       "      <th>X5</th>\n",
       "      <th>X6</th>\n",
       "      <th>X7</th>\n",
       "      <th>X8</th>\n",
       "      <th>Y1</th>\n",
       "      <th>Y2</th>\n",
       "    </tr>\n",
       "  </thead>\n",
       "  <tbody>\n",
       "    <tr>\n",
       "      <th>X1</th>\n",
       "      <td>1.000000e+00</td>\n",
       "      <td>-9.919015e-01</td>\n",
       "      <td>-2.037817e-01</td>\n",
       "      <td>-8.688234e-01</td>\n",
       "      <td>8.277473e-01</td>\n",
       "      <td>4.678592e-17</td>\n",
       "      <td>-2.960552e-15</td>\n",
       "      <td>-7.107006e-16</td>\n",
       "      <td>0.622272</td>\n",
       "      <td>0.634339</td>\n",
       "    </tr>\n",
       "    <tr>\n",
       "      <th>X2</th>\n",
       "      <td>-9.919015e-01</td>\n",
       "      <td>1.000000e+00</td>\n",
       "      <td>1.955016e-01</td>\n",
       "      <td>8.807195e-01</td>\n",
       "      <td>-8.581477e-01</td>\n",
       "      <td>-3.459372e-17</td>\n",
       "      <td>3.636925e-15</td>\n",
       "      <td>2.438409e-15</td>\n",
       "      <td>-0.658120</td>\n",
       "      <td>-0.672999</td>\n",
       "    </tr>\n",
       "    <tr>\n",
       "      <th>X3</th>\n",
       "      <td>-2.037817e-01</td>\n",
       "      <td>1.955016e-01</td>\n",
       "      <td>1.000000e+00</td>\n",
       "      <td>-2.923165e-01</td>\n",
       "      <td>2.809757e-01</td>\n",
       "      <td>-2.429499e-17</td>\n",
       "      <td>-8.567455e-17</td>\n",
       "      <td>2.067384e-16</td>\n",
       "      <td>0.455671</td>\n",
       "      <td>0.427117</td>\n",
       "    </tr>\n",
       "    <tr>\n",
       "      <th>X4</th>\n",
       "      <td>-8.688234e-01</td>\n",
       "      <td>8.807195e-01</td>\n",
       "      <td>-2.923165e-01</td>\n",
       "      <td>1.000000e+00</td>\n",
       "      <td>-9.725122e-01</td>\n",
       "      <td>-5.830058e-17</td>\n",
       "      <td>-1.759011e-15</td>\n",
       "      <td>-1.078071e-15</td>\n",
       "      <td>-0.861828</td>\n",
       "      <td>-0.862547</td>\n",
       "    </tr>\n",
       "    <tr>\n",
       "      <th>X5</th>\n",
       "      <td>8.277473e-01</td>\n",
       "      <td>-8.581477e-01</td>\n",
       "      <td>2.809757e-01</td>\n",
       "      <td>-9.725122e-01</td>\n",
       "      <td>1.000000e+00</td>\n",
       "      <td>4.492205e-17</td>\n",
       "      <td>1.489134e-17</td>\n",
       "      <td>-2.920613e-17</td>\n",
       "      <td>0.889430</td>\n",
       "      <td>0.895785</td>\n",
       "    </tr>\n",
       "    <tr>\n",
       "      <th>X6</th>\n",
       "      <td>4.678592e-17</td>\n",
       "      <td>-3.459372e-17</td>\n",
       "      <td>-2.429499e-17</td>\n",
       "      <td>-5.830058e-17</td>\n",
       "      <td>4.492205e-17</td>\n",
       "      <td>1.000000e+00</td>\n",
       "      <td>-9.406007e-16</td>\n",
       "      <td>-2.549352e-16</td>\n",
       "      <td>-0.002587</td>\n",
       "      <td>0.014290</td>\n",
       "    </tr>\n",
       "    <tr>\n",
       "      <th>X7</th>\n",
       "      <td>-2.960552e-15</td>\n",
       "      <td>3.636925e-15</td>\n",
       "      <td>-8.567455e-17</td>\n",
       "      <td>-1.759011e-15</td>\n",
       "      <td>1.489134e-17</td>\n",
       "      <td>-9.406007e-16</td>\n",
       "      <td>1.000000e+00</td>\n",
       "      <td>2.129642e-01</td>\n",
       "      <td>0.269842</td>\n",
       "      <td>0.207505</td>\n",
       "    </tr>\n",
       "    <tr>\n",
       "      <th>X8</th>\n",
       "      <td>-7.107006e-16</td>\n",
       "      <td>2.438409e-15</td>\n",
       "      <td>2.067384e-16</td>\n",
       "      <td>-1.078071e-15</td>\n",
       "      <td>-2.920613e-17</td>\n",
       "      <td>-2.549352e-16</td>\n",
       "      <td>2.129642e-01</td>\n",
       "      <td>1.000000e+00</td>\n",
       "      <td>0.087368</td>\n",
       "      <td>0.050525</td>\n",
       "    </tr>\n",
       "    <tr>\n",
       "      <th>Y1</th>\n",
       "      <td>6.222719e-01</td>\n",
       "      <td>-6.581199e-01</td>\n",
       "      <td>4.556714e-01</td>\n",
       "      <td>-8.618281e-01</td>\n",
       "      <td>8.894305e-01</td>\n",
       "      <td>-2.586763e-03</td>\n",
       "      <td>2.698417e-01</td>\n",
       "      <td>8.736846e-02</td>\n",
       "      <td>1.000000</td>\n",
       "      <td>0.975862</td>\n",
       "    </tr>\n",
       "    <tr>\n",
       "      <th>Y2</th>\n",
       "      <td>6.343391e-01</td>\n",
       "      <td>-6.729989e-01</td>\n",
       "      <td>4.271170e-01</td>\n",
       "      <td>-8.625466e-01</td>\n",
       "      <td>8.957852e-01</td>\n",
       "      <td>1.428960e-02</td>\n",
       "      <td>2.075050e-01</td>\n",
       "      <td>5.052512e-02</td>\n",
       "      <td>0.975862</td>\n",
       "      <td>1.000000</td>\n",
       "    </tr>\n",
       "  </tbody>\n",
       "</table>\n",
       "</div>"
      ],
      "text/plain": [
       "              X1            X2            X3            X4            X5  \\\n",
       "X1  1.000000e+00 -9.919015e-01 -2.037817e-01 -8.688234e-01  8.277473e-01   \n",
       "X2 -9.919015e-01  1.000000e+00  1.955016e-01  8.807195e-01 -8.581477e-01   \n",
       "X3 -2.037817e-01  1.955016e-01  1.000000e+00 -2.923165e-01  2.809757e-01   \n",
       "X4 -8.688234e-01  8.807195e-01 -2.923165e-01  1.000000e+00 -9.725122e-01   \n",
       "X5  8.277473e-01 -8.581477e-01  2.809757e-01 -9.725122e-01  1.000000e+00   \n",
       "X6  4.678592e-17 -3.459372e-17 -2.429499e-17 -5.830058e-17  4.492205e-17   \n",
       "X7 -2.960552e-15  3.636925e-15 -8.567455e-17 -1.759011e-15  1.489134e-17   \n",
       "X8 -7.107006e-16  2.438409e-15  2.067384e-16 -1.078071e-15 -2.920613e-17   \n",
       "Y1  6.222719e-01 -6.581199e-01  4.556714e-01 -8.618281e-01  8.894305e-01   \n",
       "Y2  6.343391e-01 -6.729989e-01  4.271170e-01 -8.625466e-01  8.957852e-01   \n",
       "\n",
       "              X6            X7            X8        Y1        Y2  \n",
       "X1  4.678592e-17 -2.960552e-15 -7.107006e-16  0.622272  0.634339  \n",
       "X2 -3.459372e-17  3.636925e-15  2.438409e-15 -0.658120 -0.672999  \n",
       "X3 -2.429499e-17 -8.567455e-17  2.067384e-16  0.455671  0.427117  \n",
       "X4 -5.830058e-17 -1.759011e-15 -1.078071e-15 -0.861828 -0.862547  \n",
       "X5  4.492205e-17  1.489134e-17 -2.920613e-17  0.889430  0.895785  \n",
       "X6  1.000000e+00 -9.406007e-16 -2.549352e-16 -0.002587  0.014290  \n",
       "X7 -9.406007e-16  1.000000e+00  2.129642e-01  0.269842  0.207505  \n",
       "X8 -2.549352e-16  2.129642e-01  1.000000e+00  0.087368  0.050525  \n",
       "Y1 -2.586763e-03  2.698417e-01  8.736846e-02  1.000000  0.975862  \n",
       "Y2  1.428960e-02  2.075050e-01  5.052512e-02  0.975862  1.000000  "
      ]
     },
     "execution_count": 233,
     "metadata": {},
     "output_type": "execute_result"
    }
   ],
   "source": [
    "data.corr()  # corelation between each attributes"
   ]
  },
  {
   "cell_type": "code",
   "execution_count": 234,
   "id": "c4dd6759",
   "metadata": {},
   "outputs": [
    {
     "data": {
      "text/plain": [
       "((768, 8), ' ', (768, 2))"
      ]
     },
     "execution_count": 234,
     "metadata": {},
     "output_type": "execute_result"
    }
   ],
   "source": [
    "X=data[data.columns[:8]] \n",
    "Y=data[data.columns[8:]]  # Here we placed two attributes\n",
    "X.shape,\" \",Y.shape"
   ]
  },
  {
   "cell_type": "markdown",
   "id": "43863a58",
   "metadata": {},
   "source": [
    "Split data into training and testing set using train_test_split from sklearn"
   ]
  },
  {
   "cell_type": "code",
   "execution_count": 235,
   "id": "2721ed7f",
   "metadata": {},
   "outputs": [
    {
     "name": "stdout",
     "output_type": "stream",
     "text": [
      "(537, 8)    (231, 8)\n",
      "(537, 2)    (231, 2)\n"
     ]
    }
   ],
   "source": [
    "from sklearn.model_selection import train_test_split\n",
    "\n",
    "X_train, X_test, Y_train, Y_test = train_test_split(X, Y, test_size = 0.3, random_state = 10)\n",
    "\n",
    "print(X_train.shape,\"  \",X_test.shape)\n",
    "print(Y_train.shape,\"  \",Y_test.shape)"
   ]
  },
  {
   "cell_type": "markdown",
   "id": "185ce5c0",
   "metadata": {},
   "source": [
    "Checking for the correlation between the dependent variables and choosing the good predcitors"
   ]
  },
  {
   "cell_type": "code",
   "execution_count": 236,
   "id": "701996e2",
   "metadata": {},
   "outputs": [
    {
     "data": {
      "text/plain": [
       "<AxesSubplot:>"
      ]
     },
     "execution_count": 236,
     "metadata": {},
     "output_type": "execute_result"
    },
    {
     "data": {
      "image/png": "[encoded data removed]",
      "text/plain": [
       "<Figure size 1080x648 with 2 Axes>"
      ]
     },
     "metadata": {
      "needs_background": "light"
     },
     "output_type": "display_data"
    }
   ],
   "source": [
    "plt.subplots(figsize=(15,9))\n",
    "sns.heatmap(data.corr(),annot=True, cmap=\"Blues\",fmt='0.3f')  # Plotting heatmap of correlation"
   ]
  },
  {
   "cell_type": "markdown",
   "id": "f83086e4",
   "metadata": {},
   "source": [
    "from the above heat map we get a high corelation between X2-X4 =0.881, X5-X1=0.828,and X5-Y2=0.896"
   ]
  },
  {
   "cell_type": "markdown",
   "id": "53330e60",
   "metadata": {},
   "source": [
    "# Performing linear regression using classical approch from statsmodel. \n",
    "\n",
    "# Here our dependent attribute is Y2(Cooling Load). "
   ]
  },
  {
   "cell_type": "code",
   "execution_count": 237,
   "id": "796bbac9",
   "metadata": {},
   "outputs": [],
   "source": [
    "import statsmodels.formula.api as smf # fitting the model\n",
    "\n",
    "model02 = smf.ols('Y2~X1+X2+X3+X4+X5+X6+X7+X8', data = data).fit()"
   ]
  },
  {
   "cell_type": "code",
   "execution_count": 238,
   "id": "f0b0b742",
   "metadata": {},
   "outputs": [
    {
     "data": {
      "text/plain": [
       "Intercept    97.245749\n",
       "X1          -70.787707\n",
       "X2           -0.066090\n",
       "X3            0.022528\n",
       "X4           -0.044309\n",
       "X5            4.283843\n",
       "X6            0.121510\n",
       "X7           14.717068\n",
       "X8            0.040697\n",
       "dtype: float64"
      ]
     },
     "execution_count": 238,
     "metadata": {},
     "output_type": "execute_result"
    }
   ],
   "source": [
    "model02.params"
   ]
  },
  {
   "cell_type": "code",
   "execution_count": 239,
   "id": "71966492",
   "metadata": {},
   "outputs": [
    {
     "data": {
      "text/html": [
       "<table class=\"simpletable\">\n",
       "<caption>OLS Regression Results</caption>\n",
       "<tr>\n",
       "  <th>Dep. Variable:</th>           <td>Y2</td>        <th>  R-squared:         </th> <td>   0.888</td>\n",
       "</tr>\n",
       "<tr>\n",
       "  <th>Model:</th>                   <td>OLS</td>       <th>  Adj. R-squared:    </th> <td>   0.887</td>\n",
       "</tr>\n",
       "<tr>\n",
       "  <th>Method:</th>             <td>Least Squares</td>  <th>  F-statistic:       </th> <td>   859.1</td>\n",
       "</tr>\n",
       "<tr>\n",
       "  <th>Date:</th>             <td>Sun, 06 Feb 2022</td> <th>  Prob (F-statistic):</th>  <td>  0.00</td> \n",
       "</tr>\n",
       "<tr>\n",
       "  <th>Time:</th>                 <td>21:58:28</td>     <th>  Log-Likelihood:    </th> <td> -1979.3</td>\n",
       "</tr>\n",
       "<tr>\n",
       "  <th>No. Observations:</th>      <td>   768</td>      <th>  AIC:               </th> <td>   3975.</td>\n",
       "</tr>\n",
       "<tr>\n",
       "  <th>Df Residuals:</th>          <td>   760</td>      <th>  BIC:               </th> <td>   4012.</td>\n",
       "</tr>\n",
       "<tr>\n",
       "  <th>Df Model:</th>              <td>     7</td>      <th>                     </th>     <td> </td>   \n",
       "</tr>\n",
       "<tr>\n",
       "  <th>Covariance Type:</th>      <td>nonrobust</td>    <th>                     </th>     <td> </td>   \n",
       "</tr>\n",
       "</table>\n",
       "<table class=\"simpletable\">\n",
       "<tr>\n",
       "      <td></td>         <th>coef</th>     <th>std err</th>      <th>t</th>      <th>P>|t|</th>  <th>[0.025</th>    <th>0.975]</th>  \n",
       "</tr>\n",
       "<tr>\n",
       "  <th>Intercept</th> <td>   97.2457</td> <td>   20.765</td> <td>    4.683</td> <td> 0.000</td> <td>   56.483</td> <td>  138.009</td>\n",
       "</tr>\n",
       "<tr>\n",
       "  <th>X1</th>        <td>  -70.7877</td> <td>   11.225</td> <td>   -6.306</td> <td> 0.000</td> <td>  -92.824</td> <td>  -48.751</td>\n",
       "</tr>\n",
       "<tr>\n",
       "  <th>X2</th>        <td>   -0.0661</td> <td>    0.015</td> <td>   -4.519</td> <td> 0.000</td> <td>   -0.095</td> <td>   -0.037</td>\n",
       "</tr>\n",
       "<tr>\n",
       "  <th>X3</th>        <td>    0.0225</td> <td>    0.004</td> <td>    5.365</td> <td> 0.000</td> <td>    0.014</td> <td>    0.031</td>\n",
       "</tr>\n",
       "<tr>\n",
       "  <th>X4</th>        <td>   -0.0443</td> <td>    0.008</td> <td>   -5.404</td> <td> 0.000</td> <td>   -0.060</td> <td>   -0.028</td>\n",
       "</tr>\n",
       "<tr>\n",
       "  <th>X5</th>        <td>    4.2838</td> <td>    0.369</td> <td>   11.618</td> <td> 0.000</td> <td>    3.560</td> <td>    5.008</td>\n",
       "</tr>\n",
       "<tr>\n",
       "  <th>X6</th>        <td>    0.1215</td> <td>    0.103</td> <td>    1.176</td> <td> 0.240</td> <td>   -0.081</td> <td>    0.324</td>\n",
       "</tr>\n",
       "<tr>\n",
       "  <th>X7</th>        <td>   14.7171</td> <td>    0.888</td> <td>   16.573</td> <td> 0.000</td> <td>   12.974</td> <td>   16.460</td>\n",
       "</tr>\n",
       "<tr>\n",
       "  <th>X8</th>        <td>    0.0407</td> <td>    0.076</td> <td>    0.534</td> <td> 0.594</td> <td>   -0.109</td> <td>    0.190</td>\n",
       "</tr>\n",
       "</table>\n",
       "<table class=\"simpletable\">\n",
       "<tr>\n",
       "  <th>Omnibus:</th>       <td>104.668</td> <th>  Durbin-Watson:     </th> <td>   1.094</td>\n",
       "</tr>\n",
       "<tr>\n",
       "  <th>Prob(Omnibus):</th> <td> 0.000</td>  <th>  Jarque-Bera (JB):  </th> <td> 230.547</td>\n",
       "</tr>\n",
       "<tr>\n",
       "  <th>Skew:</th>          <td> 0.767</td>  <th>  Prob(JB):          </th> <td>8.65e-51</td>\n",
       "</tr>\n",
       "<tr>\n",
       "  <th>Kurtosis:</th>      <td> 5.203</td>  <th>  Cond. No.          </th> <td>1.26e+16</td>\n",
       "</tr>\n",
       "</table><br/><br/>Notes:<br/>[1] Standard Errors assume that the covariance matrix of the errors is correctly specified.<br/>[2] The smallest eigenvalue is 2.85e-24. This might indicate that there are<br/>strong multicollinearity problems or that the design matrix is singular."
      ],
      "text/plain": [
       "<class 'statsmodels.iolib.summary.Summary'>\n",
       "\"\"\"\n",
       "                            OLS Regression Results                            \n",
       "==============================================================================\n",
       "Dep. Variable:                     Y2   R-squared:                       0.888\n",
       "Model:                            OLS   Adj. R-squared:                  0.887\n",
       "Method:                 Least Squares   F-statistic:                     859.1\n",
       "Date:                Sun, 06 Feb 2022   Prob (F-statistic):               0.00\n",
       "Time:                        21:58:28   Log-Likelihood:                -1979.3\n",
       "No. Observations:                 768   AIC:                             3975.\n",
       "Df Residuals:                     760   BIC:                             4012.\n",
       "Df Model:                           7                                         \n",
       "Covariance Type:            nonrobust                                         \n",
       "==============================================================================\n",
       "                 coef    std err          t      P>|t|      [0.025      0.975]\n",
       "------------------------------------------------------------------------------\n",
       "Intercept     97.2457     20.765      4.683      0.000      56.483     138.009\n",
       "X1           -70.7877     11.225     -6.306      0.000     -92.824     -48.751\n",
       "X2            -0.0661      0.015     -4.519      0.000      -0.095      -0.037\n",
       "X3             0.0225      0.004      5.365      0.000       0.014       0.031\n",
       "X4            -0.0443      0.008     -5.404      0.000      -0.060      -0.028\n",
       "X5             4.2838      0.369     11.618      0.000       3.560       5.008\n",
       "X6             0.1215      0.103      1.176      0.240      -0.081       0.324\n",
       "X7            14.7171      0.888     16.573      0.000      12.974      16.460\n",
       "X8             0.0407      0.076      0.534      0.594      -0.109       0.190\n",
       "==============================================================================\n",
       "Omnibus:                      104.668   Durbin-Watson:                   1.094\n",
       "Prob(Omnibus):                  0.000   Jarque-Bera (JB):              230.547\n",
       "Skew:                           0.767   Prob(JB):                     8.65e-51\n",
       "Kurtosis:                       5.203   Cond. No.                     1.26e+16\n",
       "==============================================================================\n",
       "\n",
       "Notes:\n",
       "[1] Standard Errors assume that the covariance matrix of the errors is correctly specified.\n",
       "[2] The smallest eigenvalue is 2.85e-24. This might indicate that there are\n",
       "strong multicollinearity problems or that the design matrix is singular.\n",
       "\"\"\""
      ]
     },
     "execution_count": 239,
     "metadata": {},
     "output_type": "execute_result"
    }
   ],
   "source": [
    "model02.summary()"
   ]
  },
  {
   "cell_type": "markdown",
   "id": "3e2dc104",
   "metadata": {},
   "source": [
    "This model has a R-squared value of 0.888. However, \"p value\" of Orientation and Glazing Area Distribution greater than 0.05. So we try to build a better model."
   ]
  },
  {
   "cell_type": "code",
   "execution_count": 240,
   "id": "f28a3af2",
   "metadata": {},
   "outputs": [],
   "source": [
    "#prepare a model based on Orientation\n",
    "model_O=smf.ols('Y2~X6',data=data).fit()"
   ]
  },
  {
   "cell_type": "code",
   "execution_count": 241,
   "id": "dd11c88a",
   "metadata": {},
   "outputs": [
    {
     "data": {
      "text/plain": [
       "Intercept    24.162474\n",
       "X6            0.121510\n",
       "dtype: float64"
      ]
     },
     "execution_count": 241,
     "metadata": {},
     "output_type": "execute_result"
    }
   ],
   "source": [
    "model_O.params"
   ]
  },
  {
   "cell_type": "code",
   "execution_count": 242,
   "id": "db696b66",
   "metadata": {},
   "outputs": [
    {
     "data": {
      "text/html": [
       "<table class=\"simpletable\">\n",
       "<caption>OLS Regression Results</caption>\n",
       "<tr>\n",
       "  <th>Dep. Variable:</th>           <td>Y2</td>        <th>  R-squared:         </th> <td>   0.000</td>\n",
       "</tr>\n",
       "<tr>\n",
       "  <th>Model:</th>                   <td>OLS</td>       <th>  Adj. R-squared:    </th> <td>  -0.001</td>\n",
       "</tr>\n",
       "<tr>\n",
       "  <th>Method:</th>             <td>Least Squares</td>  <th>  F-statistic:       </th> <td>  0.1564</td>\n",
       "</tr>\n",
       "<tr>\n",
       "  <th>Date:</th>             <td>Sun, 06 Feb 2022</td> <th>  Prob (F-statistic):</th>  <td> 0.693</td> \n",
       "</tr>\n",
       "<tr>\n",
       "  <th>Time:</th>                 <td>21:58:30</td>     <th>  Log-Likelihood:    </th> <td> -2819.2</td>\n",
       "</tr>\n",
       "<tr>\n",
       "  <th>No. Observations:</th>      <td>   768</td>      <th>  AIC:               </th> <td>   5642.</td>\n",
       "</tr>\n",
       "<tr>\n",
       "  <th>Df Residuals:</th>          <td>   766</td>      <th>  BIC:               </th> <td>   5652.</td>\n",
       "</tr>\n",
       "<tr>\n",
       "  <th>Df Model:</th>              <td>     1</td>      <th>                     </th>     <td> </td>   \n",
       "</tr>\n",
       "<tr>\n",
       "  <th>Covariance Type:</th>      <td>nonrobust</td>    <th>                     </th>     <td> </td>   \n",
       "</tr>\n",
       "</table>\n",
       "<table class=\"simpletable\">\n",
       "<tr>\n",
       "      <td></td>         <th>coef</th>     <th>std err</th>      <th>t</th>      <th>P>|t|</th>  <th>[0.025</th>    <th>0.975]</th>  \n",
       "</tr>\n",
       "<tr>\n",
       "  <th>Intercept</th> <td>   24.1625</td> <td>    1.129</td> <td>   21.406</td> <td> 0.000</td> <td>   21.947</td> <td>   26.378</td>\n",
       "</tr>\n",
       "<tr>\n",
       "  <th>X6</th>        <td>    0.1215</td> <td>    0.307</td> <td>    0.396</td> <td> 0.693</td> <td>   -0.482</td> <td>    0.725</td>\n",
       "</tr>\n",
       "</table>\n",
       "<table class=\"simpletable\">\n",
       "<tr>\n",
       "  <th>Omnibus:</th>       <td>392.702</td> <th>  Durbin-Watson:     </th> <td>   0.271</td>\n",
       "</tr>\n",
       "<tr>\n",
       "  <th>Prob(Omnibus):</th> <td> 0.000</td>  <th>  Jarque-Bera (JB):  </th> <td>  62.149</td>\n",
       "</tr>\n",
       "<tr>\n",
       "  <th>Skew:</th>          <td> 0.395</td>  <th>  Prob(JB):          </th> <td>3.20e-14</td>\n",
       "</tr>\n",
       "<tr>\n",
       "  <th>Kurtosis:</th>      <td> 1.851</td>  <th>  Cond. No.          </th> <td>    12.9</td>\n",
       "</tr>\n",
       "</table><br/><br/>Notes:<br/>[1] Standard Errors assume that the covariance matrix of the errors is correctly specified."
      ],
      "text/plain": [
       "<class 'statsmodels.iolib.summary.Summary'>\n",
       "\"\"\"\n",
       "                            OLS Regression Results                            \n",
       "==============================================================================\n",
       "Dep. Variable:                     Y2   R-squared:                       0.000\n",
       "Model:                            OLS   Adj. R-squared:                 -0.001\n",
       "Method:                 Least Squares   F-statistic:                    0.1564\n",
       "Date:                Sun, 06 Feb 2022   Prob (F-statistic):              0.693\n",
       "Time:                        21:58:30   Log-Likelihood:                -2819.2\n",
       "No. Observations:                 768   AIC:                             5642.\n",
       "Df Residuals:                     766   BIC:                             5652.\n",
       "Df Model:                           1                                         \n",
       "Covariance Type:            nonrobust                                         \n",
       "==============================================================================\n",
       "                 coef    std err          t      P>|t|      [0.025      0.975]\n",
       "------------------------------------------------------------------------------\n",
       "Intercept     24.1625      1.129     21.406      0.000      21.947      26.378\n",
       "X6             0.1215      0.307      0.396      0.693      -0.482       0.725\n",
       "==============================================================================\n",
       "Omnibus:                      392.702   Durbin-Watson:                   0.271\n",
       "Prob(Omnibus):                  0.000   Jarque-Bera (JB):               62.149\n",
       "Skew:                           0.395   Prob(JB):                     3.20e-14\n",
       "Kurtosis:                       1.851   Cond. No.                         12.9\n",
       "==============================================================================\n",
       "\n",
       "Notes:\n",
       "[1] Standard Errors assume that the covariance matrix of the errors is correctly specified.\n",
       "\"\"\""
      ]
     },
     "execution_count": 242,
     "metadata": {},
     "output_type": "execute_result"
    }
   ],
   "source": [
    "model_O.summary()"
   ]
  },
  {
   "cell_type": "markdown",
   "id": "5bbc9d8e",
   "metadata": {},
   "source": [
    "The p-value of X6 (Orientation) is greater than 0.05 and less correlation so we neglect the variable Orientation(X6) in model."
   ]
  },
  {
   "cell_type": "code",
   "execution_count": 243,
   "id": "fdc1d5f6",
   "metadata": {},
   "outputs": [
    {
     "data": {
      "text/html": [
       "<table class=\"simpletable\">\n",
       "<caption>OLS Regression Results</caption>\n",
       "<tr>\n",
       "  <th>Dep. Variable:</th>           <td>Y2</td>        <th>  R-squared:         </th> <td>   0.003</td>\n",
       "</tr>\n",
       "<tr>\n",
       "  <th>Model:</th>                   <td>OLS</td>       <th>  Adj. R-squared:    </th> <td>   0.001</td>\n",
       "</tr>\n",
       "<tr>\n",
       "  <th>Method:</th>             <td>Least Squares</td>  <th>  F-statistic:       </th> <td>   1.960</td>\n",
       "</tr>\n",
       "<tr>\n",
       "  <th>Date:</th>             <td>Sun, 06 Feb 2022</td> <th>  Prob (F-statistic):</th>  <td> 0.162</td> \n",
       "</tr>\n",
       "<tr>\n",
       "  <th>Time:</th>                 <td>21:58:31</td>     <th>  Log-Likelihood:    </th> <td> -2818.3</td>\n",
       "</tr>\n",
       "<tr>\n",
       "  <th>No. Observations:</th>      <td>   768</td>      <th>  AIC:               </th> <td>   5641.</td>\n",
       "</tr>\n",
       "<tr>\n",
       "  <th>Df Residuals:</th>          <td>   766</td>      <th>  BIC:               </th> <td>   5650.</td>\n",
       "</tr>\n",
       "<tr>\n",
       "  <th>Df Model:</th>              <td>     1</td>      <th>                     </th>     <td> </td>   \n",
       "</tr>\n",
       "<tr>\n",
       "  <th>Covariance Type:</th>      <td>nonrobust</td>    <th>                     </th>     <td> </td>   \n",
       "</tr>\n",
       "</table>\n",
       "<table class=\"simpletable\">\n",
       "<tr>\n",
       "      <td></td>         <th>coef</th>     <th>std err</th>      <th>t</th>      <th>P>|t|</th>  <th>[0.025</th>    <th>0.975]</th>  \n",
       "</tr>\n",
       "<tr>\n",
       "  <th>Intercept</th> <td>   23.7161</td> <td>    0.711</td> <td>   33.366</td> <td> 0.000</td> <td>   22.321</td> <td>   25.111</td>\n",
       "</tr>\n",
       "<tr>\n",
       "  <th>X8</th>        <td>    0.3099</td> <td>    0.221</td> <td>    1.400</td> <td> 0.162</td> <td>   -0.125</td> <td>    0.744</td>\n",
       "</tr>\n",
       "</table>\n",
       "<table class=\"simpletable\">\n",
       "<tr>\n",
       "  <th>Omnibus:</th>       <td>391.345</td> <th>  Durbin-Watson:     </th> <td>   0.271</td>\n",
       "</tr>\n",
       "<tr>\n",
       "  <th>Prob(Omnibus):</th> <td> 0.000</td>  <th>  Jarque-Bera (JB):  </th> <td>  62.251</td>\n",
       "</tr>\n",
       "<tr>\n",
       "  <th>Skew:</th>          <td> 0.396</td>  <th>  Prob(JB):          </th> <td>3.04e-14</td>\n",
       "</tr>\n",
       "<tr>\n",
       "  <th>Kurtosis:</th>      <td> 1.852</td>  <th>  Cond. No.          </th> <td>    7.16</td>\n",
       "</tr>\n",
       "</table><br/><br/>Notes:<br/>[1] Standard Errors assume that the covariance matrix of the errors is correctly specified."
      ],
      "text/plain": [
       "<class 'statsmodels.iolib.summary.Summary'>\n",
       "\"\"\"\n",
       "                            OLS Regression Results                            \n",
       "==============================================================================\n",
       "Dep. Variable:                     Y2   R-squared:                       0.003\n",
       "Model:                            OLS   Adj. R-squared:                  0.001\n",
       "Method:                 Least Squares   F-statistic:                     1.960\n",
       "Date:                Sun, 06 Feb 2022   Prob (F-statistic):              0.162\n",
       "Time:                        21:58:31   Log-Likelihood:                -2818.3\n",
       "No. Observations:                 768   AIC:                             5641.\n",
       "Df Residuals:                     766   BIC:                             5650.\n",
       "Df Model:                           1                                         \n",
       "Covariance Type:            nonrobust                                         \n",
       "==============================================================================\n",
       "                 coef    std err          t      P>|t|      [0.025      0.975]\n",
       "------------------------------------------------------------------------------\n",
       "Intercept     23.7161      0.711     33.366      0.000      22.321      25.111\n",
       "X8             0.3099      0.221      1.400      0.162      -0.125       0.744\n",
       "==============================================================================\n",
       "Omnibus:                      391.345   Durbin-Watson:                   0.271\n",
       "Prob(Omnibus):                  0.000   Jarque-Bera (JB):               62.251\n",
       "Skew:                           0.396   Prob(JB):                     3.04e-14\n",
       "Kurtosis:                       1.852   Cond. No.                         7.16\n",
       "==============================================================================\n",
       "\n",
       "Notes:\n",
       "[1] Standard Errors assume that the covariance matrix of the errors is correctly specified.\n",
       "\"\"\""
      ]
     },
     "execution_count": 243,
     "metadata": {},
     "output_type": "execute_result"
    }
   ],
   "source": [
    "#prepare a model based on Glazing Area Distribution\n",
    "model_GD=smf.ols('Y2~X8', data=data).fit()\n",
    "model_GD.summary()"
   ]
  },
  {
   "cell_type": "markdown",
   "id": "c174aa0f",
   "metadata": {},
   "source": [
    "Again due to less colinearity and high p-value, X8 (Glazing Area Distribution) is not used in model."
   ]
  },
  {
   "cell_type": "code",
   "execution_count": 244,
   "id": "5133e2f7",
   "metadata": {},
   "outputs": [
    {
     "data": {
      "text/html": [
       "<table class=\"simpletable\">\n",
       "<caption>OLS Regression Results</caption>\n",
       "<tr>\n",
       "  <th>Dep. Variable:</th>           <td>Y2</td>        <th>  R-squared:         </th> <td>   0.003</td>\n",
       "</tr>\n",
       "<tr>\n",
       "  <th>Model:</th>                   <td>OLS</td>       <th>  Adj. R-squared:    </th> <td>   0.000</td>\n",
       "</tr>\n",
       "<tr>\n",
       "  <th>Method:</th>             <td>Least Squares</td>  <th>  F-statistic:       </th> <td>   1.057</td>\n",
       "</tr>\n",
       "<tr>\n",
       "  <th>Date:</th>             <td>Sun, 06 Feb 2022</td> <th>  Prob (F-statistic):</th>  <td> 0.348</td> \n",
       "</tr>\n",
       "<tr>\n",
       "  <th>Time:</th>                 <td>21:58:33</td>     <th>  Log-Likelihood:    </th> <td> -2818.3</td>\n",
       "</tr>\n",
       "<tr>\n",
       "  <th>No. Observations:</th>      <td>   768</td>      <th>  AIC:               </th> <td>   5643.</td>\n",
       "</tr>\n",
       "<tr>\n",
       "  <th>Df Residuals:</th>          <td>   765</td>      <th>  BIC:               </th> <td>   5656.</td>\n",
       "</tr>\n",
       "<tr>\n",
       "  <th>Df Model:</th>              <td>     2</td>      <th>                     </th>     <td> </td>   \n",
       "</tr>\n",
       "<tr>\n",
       "  <th>Covariance Type:</th>      <td>nonrobust</td>    <th>                     </th>     <td> </td>   \n",
       "</tr>\n",
       "</table>\n",
       "<table class=\"simpletable\">\n",
       "<tr>\n",
       "      <td></td>         <th>coef</th>     <th>std err</th>      <th>t</th>      <th>P>|t|</th>  <th>[0.025</th>    <th>0.975]</th>  \n",
       "</tr>\n",
       "<tr>\n",
       "  <th>Intercept</th> <td>   23.2908</td> <td>    1.289</td> <td>   18.075</td> <td> 0.000</td> <td>   20.761</td> <td>   25.820</td>\n",
       "</tr>\n",
       "<tr>\n",
       "  <th>X6</th>        <td>    0.1215</td> <td>    0.307</td> <td>    0.396</td> <td> 0.692</td> <td>   -0.481</td> <td>    0.724</td>\n",
       "</tr>\n",
       "<tr>\n",
       "  <th>X8</th>        <td>    0.3099</td> <td>    0.221</td> <td>    1.399</td> <td> 0.162</td> <td>   -0.125</td> <td>    0.745</td>\n",
       "</tr>\n",
       "</table>\n",
       "<table class=\"simpletable\">\n",
       "<tr>\n",
       "  <th>Omnibus:</th>       <td>393.370</td> <th>  Durbin-Watson:     </th> <td>   0.271</td>\n",
       "</tr>\n",
       "<tr>\n",
       "  <th>Prob(Omnibus):</th> <td> 0.000</td>  <th>  Jarque-Bera (JB):  </th> <td>  62.260</td>\n",
       "</tr>\n",
       "<tr>\n",
       "  <th>Skew:</th>          <td> 0.396</td>  <th>  Prob(JB):          </th> <td>3.02e-14</td>\n",
       "</tr>\n",
       "<tr>\n",
       "  <th>Kurtosis:</th>      <td> 1.851</td>  <th>  Cond. No.          </th> <td>    18.3</td>\n",
       "</tr>\n",
       "</table><br/><br/>Notes:<br/>[1] Standard Errors assume that the covariance matrix of the errors is correctly specified."
      ],
      "text/plain": [
       "<class 'statsmodels.iolib.summary.Summary'>\n",
       "\"\"\"\n",
       "                            OLS Regression Results                            \n",
       "==============================================================================\n",
       "Dep. Variable:                     Y2   R-squared:                       0.003\n",
       "Model:                            OLS   Adj. R-squared:                  0.000\n",
       "Method:                 Least Squares   F-statistic:                     1.057\n",
       "Date:                Sun, 06 Feb 2022   Prob (F-statistic):              0.348\n",
       "Time:                        21:58:33   Log-Likelihood:                -2818.3\n",
       "No. Observations:                 768   AIC:                             5643.\n",
       "Df Residuals:                     765   BIC:                             5656.\n",
       "Df Model:                           2                                         \n",
       "Covariance Type:            nonrobust                                         \n",
       "==============================================================================\n",
       "                 coef    std err          t      P>|t|      [0.025      0.975]\n",
       "------------------------------------------------------------------------------\n",
       "Intercept     23.2908      1.289     18.075      0.000      20.761      25.820\n",
       "X6             0.1215      0.307      0.396      0.692      -0.481       0.724\n",
       "X8             0.3099      0.221      1.399      0.162      -0.125       0.745\n",
       "==============================================================================\n",
       "Omnibus:                      393.370   Durbin-Watson:                   0.271\n",
       "Prob(Omnibus):                  0.000   Jarque-Bera (JB):               62.260\n",
       "Skew:                           0.396   Prob(JB):                     3.02e-14\n",
       "Kurtosis:                       1.851   Cond. No.                         18.3\n",
       "==============================================================================\n",
       "\n",
       "Notes:\n",
       "[1] Standard Errors assume that the covariance matrix of the errors is correctly specified.\n",
       "\"\"\""
      ]
     },
     "execution_count": 244,
     "metadata": {},
     "output_type": "execute_result"
    }
   ],
   "source": [
    "# Finally prepare a model based on Glazing Area Distribution and Orientation\n",
    "model_OG=smf.ols('Y2~X6+X8', data=data).fit()\n",
    "model_OG.summary()"
   ]
  },
  {
   "cell_type": "markdown",
   "id": "5e71ea0c",
   "metadata": {},
   "source": [
    "Still there is no correlationa with high p-value"
   ]
  },
  {
   "cell_type": "code",
   "execution_count": 245,
   "id": "1aa2f112",
   "metadata": {},
   "outputs": [
    {
     "name": "stdout",
     "output_type": "stream",
     "text": [
      "                   0           1\n",
      "Intercept  56.482747  138.008752\n",
      "X1        -92.823923  -48.751491\n",
      "X2         -0.094802   -0.037379\n",
      "X3          0.014284    0.030771\n",
      "X4         -0.060405   -0.028213\n",
      "X5          3.559993    5.007694\n",
      "X6         -0.081312    0.324333\n",
      "X7         12.973809   16.460328\n",
      "X8         -0.109041    0.190436\n"
     ]
    }
   ],
   "source": [
    "# Confidence interval\n",
    "print(model02.conf_int(0.05)) # 95% confidnece level"
   ]
  },
  {
   "cell_type": "code",
   "execution_count": 246,
   "id": "57a713be",
   "metadata": {},
   "outputs": [
    {
     "data": {
      "text/plain": [
       "0      25.838230\n",
       "1      25.959741\n",
       "2      26.081251\n",
       "3      26.202762\n",
       "4      28.271956\n",
       "         ...    \n",
       "763    19.774852\n",
       "764    19.758785\n",
       "765    19.880296\n",
       "766    20.001806\n",
       "767    20.123316\n",
       "Length: 768, dtype: float64"
      ]
     },
     "execution_count": 246,
     "metadata": {},
     "output_type": "execute_result"
    }
   ],
   "source": [
    "pred02=model02.predict(data)  # predicting data\n",
    "pred02"
   ]
  },
  {
   "cell_type": "markdown",
   "id": "d4762477",
   "metadata": {},
   "source": [
    " Calculating VIF's values of independent variables"
   ]
  },
  {
   "cell_type": "code",
   "execution_count": 247,
   "id": "281245cf",
   "metadata": {},
   "outputs": [],
   "source": [
    "rsq_X1 = smf.ols('X1~X2+X3+X4+X5+X6+X7+X8',data=data).fit().rsquared  # residual square \n",
    "vif_X1 = 1/(1-rsq_X1)\n",
    "rsq_X2 = smf.ols('X2~X1+X3+X4+X5+X6+X7+X8',data=data).fit().rsquared  # residual square \n",
    "vif_X2 = 1/(1-rsq_X2)\n",
    "rsq_X3 = smf.ols('X3~X2+X1+X4+X5+X6+X7+X8',data=data).fit().rsquared  # residual square \n",
    "vif_X3 = 1/(1-rsq_X3)\n",
    "rsq_X4 = smf.ols('X4~X2+X3+X1+X5+X6+X7+X8',data=data).fit().rsquared  # residual square \n",
    "vif_X4 = 1/(1-rsq_X4)\n",
    "rsq_X5 = smf.ols('X5~X2+X3+X4+X1+X6+X7+X8',data=data).fit().rsquared  # residual square \n",
    "vif_X5 = 1/(1-rsq_X5)\n",
    "rsq_X6 = smf.ols('X6~X2+X3+X4+X5+X1+X7+X8',data=data).fit().rsquared  # residual square \n",
    "vif_X6 = 1/(1-rsq_X6)\n",
    "rsq_X7 = smf.ols('X7~X2+X3+X4+X5+X6+X1+X8',data=data).fit().rsquared  # residual square \n",
    "vif_X7 = 1/(1-rsq_X7)\n",
    "rsq_X8 = smf.ols('X8~X2+X3+X4+X5+X6+X7+X1',data=data).fit().rsquared  # residual square \n",
    "vif_X8 = 1/(1-rsq_X8)"
   ]
  },
  {
   "cell_type": "code",
   "execution_count": 248,
   "id": "a25df3c7",
   "metadata": {},
   "outputs": [
    {
     "data": {
      "text/html": [
       "<div>\n",
       "<style scoped>\n",
       "    .dataframe tbody tr th:only-of-type {\n",
       "        vertical-align: middle;\n",
       "    }\n",
       "\n",
       "    .dataframe tbody tr th {\n",
       "        vertical-align: top;\n",
       "    }\n",
       "\n",
       "    .dataframe thead th {\n",
       "        text-align: right;\n",
       "    }\n",
       "</style>\n",
       "<table border=\"1\" class=\"dataframe\">\n",
       "  <thead>\n",
       "    <tr style=\"text-align: right;\">\n",
       "      <th></th>\n",
       "      <th>Variables</th>\n",
       "      <th>VIF</th>\n",
       "      <th>RSQ</th>\n",
       "    </tr>\n",
       "  </thead>\n",
       "  <tbody>\n",
       "    <tr>\n",
       "      <th>0</th>\n",
       "      <td>X1</td>\n",
       "      <td>105.524054</td>\n",
       "      <td>0.990523</td>\n",
       "    </tr>\n",
       "    <tr>\n",
       "      <th>1</th>\n",
       "      <td>X2</td>\n",
       "      <td>inf</td>\n",
       "      <td>1.000000</td>\n",
       "    </tr>\n",
       "    <tr>\n",
       "      <th>2</th>\n",
       "      <td>X3</td>\n",
       "      <td>inf</td>\n",
       "      <td>1.000000</td>\n",
       "    </tr>\n",
       "    <tr>\n",
       "      <th>3</th>\n",
       "      <td>X4</td>\n",
       "      <td>inf</td>\n",
       "      <td>1.000000</td>\n",
       "    </tr>\n",
       "    <tr>\n",
       "      <th>4</th>\n",
       "      <td>X5</td>\n",
       "      <td>31.205474</td>\n",
       "      <td>0.967954</td>\n",
       "    </tr>\n",
       "    <tr>\n",
       "      <th>5</th>\n",
       "      <td>X6</td>\n",
       "      <td>1.000000</td>\n",
       "      <td>0.000000</td>\n",
       "    </tr>\n",
       "    <tr>\n",
       "      <th>6</th>\n",
       "      <td>X7</td>\n",
       "      <td>1.047508</td>\n",
       "      <td>0.045354</td>\n",
       "    </tr>\n",
       "    <tr>\n",
       "      <th>7</th>\n",
       "      <td>X8</td>\n",
       "      <td>1.047508</td>\n",
       "      <td>0.045354</td>\n",
       "    </tr>\n",
       "  </tbody>\n",
       "</table>\n",
       "</div>"
      ],
      "text/plain": [
       "  Variables         VIF       RSQ\n",
       "0        X1  105.524054  0.990523\n",
       "1        X2         inf  1.000000\n",
       "2        X3         inf  1.000000\n",
       "3        X4         inf  1.000000\n",
       "4        X5   31.205474  0.967954\n",
       "5        X6    1.000000  0.000000\n",
       "6        X7    1.047508  0.045354\n",
       "7        X8    1.047508  0.045354"
      ]
     },
     "execution_count": 248,
     "metadata": {},
     "output_type": "execute_result"
    }
   ],
   "source": [
    "# Storing vif values in a data frame\n",
    "d1 = {'Variables':['X1','X2','X3','X4','X5','X6','X7','X8'],'VIF':[vif_X1,vif_X2,vif_X3,vif_X4,vif_X5,vif_X6,vif_X7,vif_X8], 'RSQ':[rsq_X1,rsq_X2,rsq_X3,rsq_X4,rsq_X5,rsq_X6,rsq_X7,rsq_X8]}\n",
    "Vif_frame = pd.DataFrame(d1)  \n",
    "Vif_frame"
   ]
  },
  {
   "cell_type": "markdown",
   "id": "d4a10f84",
   "metadata": {},
   "source": [
    "Here we get infinite VIF values so it shows that X2,X3,X4 has high corelation. Also, X1, X5 and X7 has some corelation ."
   ]
  },
  {
   "cell_type": "markdown",
   "id": "4d861570",
   "metadata": {},
   "source": [
    "Finally we can drop the X6 and X8 cloumns and fit the model for regression."
   ]
  },
  {
   "cell_type": "code",
   "execution_count": 249,
   "id": "5ce909d4",
   "metadata": {},
   "outputs": [
    {
     "data": {
      "text/html": [
       "<table class=\"simpletable\">\n",
       "<caption>OLS Regression Results</caption>\n",
       "<tr>\n",
       "  <th>Dep. Variable:</th>           <td>Y2</td>        <th>  R-squared:         </th> <td>   0.888</td>\n",
       "</tr>\n",
       "<tr>\n",
       "  <th>Model:</th>                   <td>OLS</td>       <th>  Adj. R-squared:    </th> <td>   0.887</td>\n",
       "</tr>\n",
       "<tr>\n",
       "  <th>Method:</th>             <td>Least Squares</td>  <th>  F-statistic:       </th> <td>   1203.</td>\n",
       "</tr>\n",
       "<tr>\n",
       "  <th>Date:</th>             <td>Sun, 06 Feb 2022</td> <th>  Prob (F-statistic):</th>  <td>  0.00</td> \n",
       "</tr>\n",
       "<tr>\n",
       "  <th>Time:</th>                 <td>21:58:42</td>     <th>  Log-Likelihood:    </th> <td> -1980.2</td>\n",
       "</tr>\n",
       "<tr>\n",
       "  <th>No. Observations:</th>      <td>   768</td>      <th>  AIC:               </th> <td>   3972.</td>\n",
       "</tr>\n",
       "<tr>\n",
       "  <th>Df Residuals:</th>          <td>   762</td>      <th>  BIC:               </th> <td>   4000.</td>\n",
       "</tr>\n",
       "<tr>\n",
       "  <th>Df Model:</th>              <td>     5</td>      <th>                     </th>     <td> </td>   \n",
       "</tr>\n",
       "<tr>\n",
       "  <th>Covariance Type:</th>      <td>nonrobust</td>    <th>                     </th>     <td> </td>   \n",
       "</tr>\n",
       "</table>\n",
       "<table class=\"simpletable\">\n",
       "<tr>\n",
       "      <td></td>         <th>coef</th>     <th>std err</th>      <th>t</th>      <th>P>|t|</th>  <th>[0.025</th>    <th>0.975]</th>  \n",
       "</tr>\n",
       "<tr>\n",
       "  <th>Intercept</th> <td>   97.7618</td> <td>   20.756</td> <td>    4.710</td> <td> 0.000</td> <td>   57.015</td> <td>  138.508</td>\n",
       "</tr>\n",
       "<tr>\n",
       "  <th>X1</th>        <td>  -70.7877</td> <td>   11.223</td> <td>   -6.307</td> <td> 0.000</td> <td>  -92.819</td> <td>  -48.756</td>\n",
       "</tr>\n",
       "<tr>\n",
       "  <th>X2</th>        <td>   -0.0661</td> <td>    0.015</td> <td>   -4.520</td> <td> 0.000</td> <td>   -0.095</td> <td>   -0.037</td>\n",
       "</tr>\n",
       "<tr>\n",
       "  <th>X3</th>        <td>    0.0225</td> <td>    0.004</td> <td>    5.366</td> <td> 0.000</td> <td>    0.014</td> <td>    0.031</td>\n",
       "</tr>\n",
       "<tr>\n",
       "  <th>X4</th>        <td>   -0.0443</td> <td>    0.008</td> <td>   -5.405</td> <td> 0.000</td> <td>   -0.060</td> <td>   -0.028</td>\n",
       "</tr>\n",
       "<tr>\n",
       "  <th>X5</th>        <td>    4.2838</td> <td>    0.369</td> <td>   11.620</td> <td> 0.000</td> <td>    3.560</td> <td>    5.008</td>\n",
       "</tr>\n",
       "<tr>\n",
       "  <th>X7</th>        <td>   14.8180</td> <td>    0.867</td> <td>   17.082</td> <td> 0.000</td> <td>   13.115</td> <td>   16.521</td>\n",
       "</tr>\n",
       "</table>\n",
       "<table class=\"simpletable\">\n",
       "<tr>\n",
       "  <th>Omnibus:</th>       <td>104.896</td> <th>  Durbin-Watson:     </th> <td>   1.095</td>\n",
       "</tr>\n",
       "<tr>\n",
       "  <th>Prob(Omnibus):</th> <td> 0.000</td>  <th>  Jarque-Bera (JB):  </th> <td> 232.225</td>\n",
       "</tr>\n",
       "<tr>\n",
       "  <th>Skew:</th>          <td> 0.766</td>  <th>  Prob(JB):          </th> <td>3.74e-51</td>\n",
       "</tr>\n",
       "<tr>\n",
       "  <th>Kurtosis:</th>      <td> 5.215</td>  <th>  Cond. No.          </th> <td>1.26e+16</td>\n",
       "</tr>\n",
       "</table><br/><br/>Notes:<br/>[1] Standard Errors assume that the covariance matrix of the errors is correctly specified.<br/>[2] The smallest eigenvalue is 2.85e-24. This might indicate that there are<br/>strong multicollinearity problems or that the design matrix is singular."
      ],
      "text/plain": [
       "<class 'statsmodels.iolib.summary.Summary'>\n",
       "\"\"\"\n",
       "                            OLS Regression Results                            \n",
       "==============================================================================\n",
       "Dep. Variable:                     Y2   R-squared:                       0.888\n",
       "Model:                            OLS   Adj. R-squared:                  0.887\n",
       "Method:                 Least Squares   F-statistic:                     1203.\n",
       "Date:                Sun, 06 Feb 2022   Prob (F-statistic):               0.00\n",
       "Time:                        21:58:42   Log-Likelihood:                -1980.2\n",
       "No. Observations:                 768   AIC:                             3972.\n",
       "Df Residuals:                     762   BIC:                             4000.\n",
       "Df Model:                           5                                         \n",
       "Covariance Type:            nonrobust                                         \n",
       "==============================================================================\n",
       "                 coef    std err          t      P>|t|      [0.025      0.975]\n",
       "------------------------------------------------------------------------------\n",
       "Intercept     97.7618     20.756      4.710      0.000      57.015     138.508\n",
       "X1           -70.7877     11.223     -6.307      0.000     -92.819     -48.756\n",
       "X2            -0.0661      0.015     -4.520      0.000      -0.095      -0.037\n",
       "X3             0.0225      0.004      5.366      0.000       0.014       0.031\n",
       "X4            -0.0443      0.008     -5.405      0.000      -0.060      -0.028\n",
       "X5             4.2838      0.369     11.620      0.000       3.560       5.008\n",
       "X7            14.8180      0.867     17.082      0.000      13.115      16.521\n",
       "==============================================================================\n",
       "Omnibus:                      104.896   Durbin-Watson:                   1.095\n",
       "Prob(Omnibus):                  0.000   Jarque-Bera (JB):              232.225\n",
       "Skew:                           0.766   Prob(JB):                     3.74e-51\n",
       "Kurtosis:                       5.215   Cond. No.                     1.26e+16\n",
       "==============================================================================\n",
       "\n",
       "Notes:\n",
       "[1] Standard Errors assume that the covariance matrix of the errors is correctly specified.\n",
       "[2] The smallest eigenvalue is 2.85e-24. This might indicate that there are\n",
       "strong multicollinearity problems or that the design matrix is singular.\n",
       "\"\"\""
      ]
     },
     "execution_count": 249,
     "metadata": {},
     "output_type": "execute_result"
    }
   ],
   "source": [
    "#WE drop the X6 and X8 column as it's p value exceds\n",
    "model03=smf.ols('Y2~X1+X2+X3+X4+X5+X7',data=data).fit()\n",
    "model03.summary()"
   ]
  },
  {
   "cell_type": "markdown",
   "id": "d1fbf6e4",
   "metadata": {},
   "source": [
    "The R-squared value is 0.888. Which is similar to previous model , as the Glazing area distribution and the Orientation has no influence on the depndent variable."
   ]
  },
  {
   "cell_type": "code",
   "execution_count": 250,
   "id": "f5f7f658",
   "metadata": {},
   "outputs": [
    {
     "data": {
      "text/plain": [
       "0      26.111308\n",
       "1      26.111308\n",
       "2      26.111308\n",
       "3      26.111308\n",
       "4      28.545034\n",
       "         ...    \n",
       "763    19.520273\n",
       "764    19.868738\n",
       "765    19.868738\n",
       "766    19.868738\n",
       "767    19.868738\n",
       "Length: 768, dtype: float64"
      ]
     },
     "execution_count": 250,
     "metadata": {},
     "output_type": "execute_result"
    }
   ],
   "source": [
    "pred03=model03.predict(data) # predicting the model to check model strength\n",
    "pred03"
   ]
  },
  {
   "cell_type": "code",
   "execution_count": 251,
   "id": "dd8f7ed9",
   "metadata": {},
   "outputs": [
    {
     "data": {
      "image/png": "[encoded data removed]",
      "text/plain": [
       "<Figure size 432x288 with 7 Axes>"
      ]
     },
     "execution_count": 251,
     "metadata": {},
     "output_type": "execute_result"
    },
    {
     "data": {
      "image/png": "[encoded data removed]",
      "text/plain": [
       "<Figure size 432x288 with 7 Axes>"
      ]
     },
     "metadata": {
      "needs_background": "light"
     },
     "output_type": "display_data"
    }
   ],
   "source": [
    "# added variable plot for the  model03\n",
    "import statsmodels.api as sm\n",
    "sm.graphics.plot_partregress_grid(model03)"
   ]
  },
  {
   "cell_type": "code",
   "execution_count": 252,
   "id": "327b3274",
   "metadata": {},
   "outputs": [
    {
     "data": {
      "text/plain": [
       "Text(0, 0.5, 'Predicted_values')"
      ]
     },
     "execution_count": 252,
     "metadata": {},
     "output_type": "execute_result"
    },
    {
     "data": {
      "image/png": "[encoded data removed]",
      "text/plain": [
       "<Figure size 432x288 with 1 Axes>"
      ]
     },
     "metadata": {
      "needs_background": "light"
     },
     "output_type": "display_data"
    }
   ],
   "source": [
    "#  scatter plot\n",
    "plt.scatter(data.Y2,pred03,c=\"r\");plt.xlabel(\"Actual_values\");plt.ylabel(\"Predicted_values\")"
   ]
  },
  {
   "cell_type": "code",
   "execution_count": 253,
   "id": "1aa9802b",
   "metadata": {},
   "outputs": [],
   "source": [
    "m,b=np.polyfit(data.Y2,pred03,1)"
   ]
  },
  {
   "cell_type": "code",
   "execution_count": 254,
   "id": "1bf841a8",
   "metadata": {},
   "outputs": [
    {
     "data": {
      "text/plain": [
       "[<matplotlib.lines.Line2D at 0x2420cb56e50>]"
      ]
     },
     "execution_count": 254,
     "metadata": {},
     "output_type": "execute_result"
    },
    {
     "data": {
      "image/png": "[encoded data removed]",
      "text/plain": [
       "<Figure size 432x288 with 1 Axes>"
      ]
     },
     "metadata": {
      "needs_background": "light"
     },
     "output_type": "display_data"
    }
   ],
   "source": [
    "plt.scatter(data.Y2,pred03,c=\"r\");plt.xlabel(\"Actual_values\");plt.ylabel(\"Predicted_values\") ;plt.plot(data.Y2,m*data.Y2+b)"
   ]
  },
  {
   "cell_type": "code",
   "execution_count": 255,
   "id": "c383469e",
   "metadata": {},
   "outputs": [
    {
     "data": {
      "text/plain": [
       "Text(0, 0.5, 'residuals')"
      ]
     },
     "execution_count": 255,
     "metadata": {},
     "output_type": "execute_result"
    },
    {
     "data": {
      "image/png": "[encoded data removed]",
      "text/plain": [
       "<Figure size 432x288 with 1 Axes>"
      ]
     },
     "metadata": {
      "needs_background": "light"
     },
     "output_type": "display_data"
    }
   ],
   "source": [
    "#residual value vs Predicted values\n",
    "plt.scatter(pred03,model03.resid_pearson,c=\"r\"),plt.axhline(y=0,color='blue');plt.xlabel(\"Predicted_values\");plt.ylabel(\"residuals\")"
   ]
  },
  {
   "cell_type": "markdown",
   "id": "cdf96931",
   "metadata": {},
   "source": [
    "The model could predict the dependent variable fairly with R- squared value 0.88"
   ]
  },
  {
   "cell_type": "code",
   "execution_count": 256,
   "id": "7870b25e",
   "metadata": {},
   "outputs": [
    {
     "data": {
      "text/plain": [
       "(array([ 14.,  33.,  61., 210., 253., 120.,  40.,   7.,  12.,  18.]),\n",
       " array([-2.72584278, -2.09940333, -1.47296388, -0.84652444, -0.22008499,\n",
       "         0.40635446,  1.03279391,  1.65923336,  2.28567281,  2.91211226,\n",
       "         3.5385517 ]),\n",
       " <BarContainer object of 10 artists>)"
      ]
     },
     "execution_count": 256,
     "metadata": {},
     "output_type": "execute_result"
    },
    {
     "data": {
      "image/png": "[encoded data removed]",
      "text/plain": [
       "<Figure size 432x288 with 1 Axes>"
      ]
     },
     "metadata": {
      "needs_background": "light"
     },
     "output_type": "display_data"
    }
   ],
   "source": [
    "# histogram\n",
    "plt.hist(model03.resid_pearson) # Checking the if standardized residuals are normally distributed"
   ]
  },
  {
   "cell_type": "markdown",
   "id": "8bf70ce8",
   "metadata": {},
   "source": [
    "As we can see the some high residuals in the residual plot, we also check for RMSE values"
   ]
  },
  {
   "cell_type": "code",
   "execution_count": 257,
   "id": "7afb93e1",
   "metadata": {},
   "outputs": [
    {
     "data": {
      "text/plain": [
       "3.1879689848974495"
      ]
     },
     "execution_count": 257,
     "metadata": {},
     "output_type": "execute_result"
    }
   ],
   "source": [
    "data_resid=pred03-data.Y2\n",
    "rmse_LR=np.sqrt(np.mean(data_resid*data_resid))\n",
    "rmse_LR  # RMSE for data"
   ]
  },
  {
   "cell_type": "markdown",
   "id": "320b9d18",
   "metadata": {},
   "source": [
    "Calculatig R2 score"
   ]
  },
  {
   "cell_type": "code",
   "execution_count": 258,
   "id": "e8edbfb5",
   "metadata": {},
   "outputs": [
    {
     "data": {
      "text/plain": [
       "0.8875573328171108"
      ]
     },
     "execution_count": 258,
     "metadata": {},
     "output_type": "execute_result"
    }
   ],
   "source": [
    "from sklearn.metrics import r2_score\n",
    "R2_LR=np.mean(r2_score(Y.Y2,pred03))  # Calculating R2 score for data\n",
    "R2_LR"
   ]
  },
  {
   "cell_type": "code",
   "execution_count": 259,
   "id": "3ea57c20",
   "metadata": {},
   "outputs": [
    {
     "data": {
      "text/plain": [
       "((537, 10), '  ', (231, 10))"
      ]
     },
     "execution_count": 259,
     "metadata": {},
     "output_type": "execute_result"
    }
   ],
   "source": [
    "# Splitting the data into train and test data \n",
    "\n",
    "data_train,data_test  = train_test_split(data,test_size = 0.3,random_state=22) # 30% size\n",
    "\n",
    "data_train.shape,'  ',data_test.shape"
   ]
  },
  {
   "cell_type": "code",
   "execution_count": 260,
   "id": "89a1fefb",
   "metadata": {},
   "outputs": [],
   "source": [
    "# preparing the model on train data \n",
    "\n",
    "model_train = smf.ols(\"Y2~X1+X2+X3+X4+X5+X7\",data=data_train).fit()\n",
    "\n",
    "# train_data prediction\n",
    "train_pred = model_train.predict(data_train)"
   ]
  },
  {
   "cell_type": "code",
   "execution_count": 261,
   "id": "d375a302",
   "metadata": {},
   "outputs": [
    {
     "data": {
      "text/plain": [
       "88    -4.267207\n",
       "602   -0.377172\n",
       "235   -4.377207\n",
       "565    1.129973\n",
       "548    0.856727\n",
       "         ...   \n",
       "491   -1.492995\n",
       "502    2.462715\n",
       "358    0.912715\n",
       "356    1.322715\n",
       "132   -0.128050\n",
       "Length: 537, dtype: float64"
      ]
     },
     "execution_count": 261,
     "metadata": {},
     "output_type": "execute_result"
    }
   ],
   "source": [
    "# train residual values \n",
    "train_resid  = train_pred - data_train.Y2\n",
    "train_resid"
   ]
  },
  {
   "cell_type": "code",
   "execution_count": 262,
   "id": "189a52a8",
   "metadata": {},
   "outputs": [
    {
     "data": {
      "text/plain": [
       "3.2771617445015124"
      ]
     },
     "execution_count": 262,
     "metadata": {},
     "output_type": "execute_result"
    }
   ],
   "source": [
    "# RMSE value for train data \n",
    "train_rmse = np.sqrt(np.mean(train_resid*train_resid))\n",
    "train_rmse"
   ]
  },
  {
   "cell_type": "code",
   "execution_count": 263,
   "id": "2203696d",
   "metadata": {},
   "outputs": [
    {
     "data": {
      "text/plain": [
       "2.9453156569491985"
      ]
     },
     "execution_count": 263,
     "metadata": {},
     "output_type": "execute_result"
    }
   ],
   "source": [
    "# preparing the model on testing data \n",
    "\n",
    "model_test = smf.ols(\"Y2~X1+X2+X3+X4+X5+X7\",data=data_test).fit()\n",
    "\n",
    "# test_data prediction\n",
    "test_pred = model_test.predict(data_test)\n",
    "# test residual values \n",
    "test_resid  = test_pred - data_test.Y2\n",
    "# RMSE value for test data \n",
    "test_rmse = np.sqrt(np.mean(test_resid*test_resid))\n",
    "test_rmse"
   ]
  },
  {
   "cell_type": "markdown",
   "id": "5563ea7d",
   "metadata": {},
   "source": [
    "# Heating Load (Y1) "
   ]
  },
  {
   "cell_type": "code",
   "execution_count": 264,
   "id": "c4507506",
   "metadata": {},
   "outputs": [
    {
     "data": {
      "text/html": [
       "<div>\n",
       "<style scoped>\n",
       "    .dataframe tbody tr th:only-of-type {\n",
       "        vertical-align: middle;\n",
       "    }\n",
       "\n",
       "    .dataframe tbody tr th {\n",
       "        vertical-align: top;\n",
       "    }\n",
       "\n",
       "    .dataframe thead th {\n",
       "        text-align: right;\n",
       "    }\n",
       "</style>\n",
       "<table border=\"1\" class=\"dataframe\">\n",
       "  <thead>\n",
       "    <tr style=\"text-align: right;\">\n",
       "      <th></th>\n",
       "      <th>X1</th>\n",
       "      <th>X2</th>\n",
       "      <th>X3</th>\n",
       "      <th>X4</th>\n",
       "      <th>X5</th>\n",
       "      <th>X6</th>\n",
       "      <th>X7</th>\n",
       "      <th>X8</th>\n",
       "      <th>Y1</th>\n",
       "      <th>Y2</th>\n",
       "    </tr>\n",
       "  </thead>\n",
       "  <tbody>\n",
       "    <tr>\n",
       "      <th>0</th>\n",
       "      <td>0.98</td>\n",
       "      <td>514.5</td>\n",
       "      <td>294.0</td>\n",
       "      <td>110.25</td>\n",
       "      <td>7.0</td>\n",
       "      <td>2</td>\n",
       "      <td>0.0</td>\n",
       "      <td>0</td>\n",
       "      <td>15.55</td>\n",
       "      <td>21.33</td>\n",
       "    </tr>\n",
       "    <tr>\n",
       "      <th>1</th>\n",
       "      <td>0.98</td>\n",
       "      <td>514.5</td>\n",
       "      <td>294.0</td>\n",
       "      <td>110.25</td>\n",
       "      <td>7.0</td>\n",
       "      <td>3</td>\n",
       "      <td>0.0</td>\n",
       "      <td>0</td>\n",
       "      <td>15.55</td>\n",
       "      <td>21.33</td>\n",
       "    </tr>\n",
       "    <tr>\n",
       "      <th>2</th>\n",
       "      <td>0.98</td>\n",
       "      <td>514.5</td>\n",
       "      <td>294.0</td>\n",
       "      <td>110.25</td>\n",
       "      <td>7.0</td>\n",
       "      <td>4</td>\n",
       "      <td>0.0</td>\n",
       "      <td>0</td>\n",
       "      <td>15.55</td>\n",
       "      <td>21.33</td>\n",
       "    </tr>\n",
       "    <tr>\n",
       "      <th>3</th>\n",
       "      <td>0.98</td>\n",
       "      <td>514.5</td>\n",
       "      <td>294.0</td>\n",
       "      <td>110.25</td>\n",
       "      <td>7.0</td>\n",
       "      <td>5</td>\n",
       "      <td>0.0</td>\n",
       "      <td>0</td>\n",
       "      <td>15.55</td>\n",
       "      <td>21.33</td>\n",
       "    </tr>\n",
       "    <tr>\n",
       "      <th>4</th>\n",
       "      <td>0.90</td>\n",
       "      <td>563.5</td>\n",
       "      <td>318.5</td>\n",
       "      <td>122.50</td>\n",
       "      <td>7.0</td>\n",
       "      <td>2</td>\n",
       "      <td>0.0</td>\n",
       "      <td>0</td>\n",
       "      <td>20.84</td>\n",
       "      <td>28.28</td>\n",
       "    </tr>\n",
       "  </tbody>\n",
       "</table>\n",
       "</div>"
      ],
      "text/plain": [
       "     X1     X2     X3      X4   X5  X6   X7  X8     Y1     Y2\n",
       "0  0.98  514.5  294.0  110.25  7.0   2  0.0   0  15.55  21.33\n",
       "1  0.98  514.5  294.0  110.25  7.0   3  0.0   0  15.55  21.33\n",
       "2  0.98  514.5  294.0  110.25  7.0   4  0.0   0  15.55  21.33\n",
       "3  0.98  514.5  294.0  110.25  7.0   5  0.0   0  15.55  21.33\n",
       "4  0.90  563.5  318.5  122.50  7.0   2  0.0   0  20.84  28.28"
      ]
     },
     "execution_count": 264,
     "metadata": {},
     "output_type": "execute_result"
    }
   ],
   "source": [
    "data.head()"
   ]
  },
  {
   "cell_type": "code",
   "execution_count": 265,
   "id": "8c2788fe",
   "metadata": {},
   "outputs": [
    {
     "data": {
      "text/html": [
       "<div>\n",
       "<style scoped>\n",
       "    .dataframe tbody tr th:only-of-type {\n",
       "        vertical-align: middle;\n",
       "    }\n",
       "\n",
       "    .dataframe tbody tr th {\n",
       "        vertical-align: top;\n",
       "    }\n",
       "\n",
       "    .dataframe thead th {\n",
       "        text-align: right;\n",
       "    }\n",
       "</style>\n",
       "<table border=\"1\" class=\"dataframe\">\n",
       "  <thead>\n",
       "    <tr style=\"text-align: right;\">\n",
       "      <th></th>\n",
       "      <th>X1</th>\n",
       "      <th>X2</th>\n",
       "      <th>X3</th>\n",
       "      <th>X4</th>\n",
       "      <th>X5</th>\n",
       "      <th>X6</th>\n",
       "      <th>X7</th>\n",
       "      <th>X8</th>\n",
       "      <th>Y1</th>\n",
       "      <th>Y2</th>\n",
       "    </tr>\n",
       "  </thead>\n",
       "  <tbody>\n",
       "    <tr>\n",
       "      <th>X1</th>\n",
       "      <td>1.000000e+00</td>\n",
       "      <td>-9.919015e-01</td>\n",
       "      <td>-2.037817e-01</td>\n",
       "      <td>-8.688234e-01</td>\n",
       "      <td>8.277473e-01</td>\n",
       "      <td>4.678592e-17</td>\n",
       "      <td>-2.960552e-15</td>\n",
       "      <td>-7.107006e-16</td>\n",
       "      <td>0.622272</td>\n",
       "      <td>0.634339</td>\n",
       "    </tr>\n",
       "    <tr>\n",
       "      <th>X2</th>\n",
       "      <td>-9.919015e-01</td>\n",
       "      <td>1.000000e+00</td>\n",
       "      <td>1.955016e-01</td>\n",
       "      <td>8.807195e-01</td>\n",
       "      <td>-8.581477e-01</td>\n",
       "      <td>-3.459372e-17</td>\n",
       "      <td>3.636925e-15</td>\n",
       "      <td>2.438409e-15</td>\n",
       "      <td>-0.658120</td>\n",
       "      <td>-0.672999</td>\n",
       "    </tr>\n",
       "    <tr>\n",
       "      <th>X3</th>\n",
       "      <td>-2.037817e-01</td>\n",
       "      <td>1.955016e-01</td>\n",
       "      <td>1.000000e+00</td>\n",
       "      <td>-2.923165e-01</td>\n",
       "      <td>2.809757e-01</td>\n",
       "      <td>-2.429499e-17</td>\n",
       "      <td>-8.567455e-17</td>\n",
       "      <td>2.067384e-16</td>\n",
       "      <td>0.455671</td>\n",
       "      <td>0.427117</td>\n",
       "    </tr>\n",
       "    <tr>\n",
       "      <th>X4</th>\n",
       "      <td>-8.688234e-01</td>\n",
       "      <td>8.807195e-01</td>\n",
       "      <td>-2.923165e-01</td>\n",
       "      <td>1.000000e+00</td>\n",
       "      <td>-9.725122e-01</td>\n",
       "      <td>-5.830058e-17</td>\n",
       "      <td>-1.759011e-15</td>\n",
       "      <td>-1.078071e-15</td>\n",
       "      <td>-0.861828</td>\n",
       "      <td>-0.862547</td>\n",
       "    </tr>\n",
       "    <tr>\n",
       "      <th>X5</th>\n",
       "      <td>8.277473e-01</td>\n",
       "      <td>-8.581477e-01</td>\n",
       "      <td>2.809757e-01</td>\n",
       "      <td>-9.725122e-01</td>\n",
       "      <td>1.000000e+00</td>\n",
       "      <td>4.492205e-17</td>\n",
       "      <td>1.489134e-17</td>\n",
       "      <td>-2.920613e-17</td>\n",
       "      <td>0.889430</td>\n",
       "      <td>0.895785</td>\n",
       "    </tr>\n",
       "    <tr>\n",
       "      <th>X6</th>\n",
       "      <td>4.678592e-17</td>\n",
       "      <td>-3.459372e-17</td>\n",
       "      <td>-2.429499e-17</td>\n",
       "      <td>-5.830058e-17</td>\n",
       "      <td>4.492205e-17</td>\n",
       "      <td>1.000000e+00</td>\n",
       "      <td>-9.406007e-16</td>\n",
       "      <td>-2.549352e-16</td>\n",
       "      <td>-0.002587</td>\n",
       "      <td>0.014290</td>\n",
       "    </tr>\n",
       "    <tr>\n",
       "      <th>X7</th>\n",
       "      <td>-2.960552e-15</td>\n",
       "      <td>3.636925e-15</td>\n",
       "      <td>-8.567455e-17</td>\n",
       "      <td>-1.759011e-15</td>\n",
       "      <td>1.489134e-17</td>\n",
       "      <td>-9.406007e-16</td>\n",
       "      <td>1.000000e+00</td>\n",
       "      <td>2.129642e-01</td>\n",
       "      <td>0.269842</td>\n",
       "      <td>0.207505</td>\n",
       "    </tr>\n",
       "    <tr>\n",
       "      <th>X8</th>\n",
       "      <td>-7.107006e-16</td>\n",
       "      <td>2.438409e-15</td>\n",
       "      <td>2.067384e-16</td>\n",
       "      <td>-1.078071e-15</td>\n",
       "      <td>-2.920613e-17</td>\n",
       "      <td>-2.549352e-16</td>\n",
       "      <td>2.129642e-01</td>\n",
       "      <td>1.000000e+00</td>\n",
       "      <td>0.087368</td>\n",
       "      <td>0.050525</td>\n",
       "    </tr>\n",
       "    <tr>\n",
       "      <th>Y1</th>\n",
       "      <td>6.222719e-01</td>\n",
       "      <td>-6.581199e-01</td>\n",
       "      <td>4.556714e-01</td>\n",
       "      <td>-8.618281e-01</td>\n",
       "      <td>8.894305e-01</td>\n",
       "      <td>-2.586763e-03</td>\n",
       "      <td>2.698417e-01</td>\n",
       "      <td>8.736846e-02</td>\n",
       "      <td>1.000000</td>\n",
       "      <td>0.975862</td>\n",
       "    </tr>\n",
       "    <tr>\n",
       "      <th>Y2</th>\n",
       "      <td>6.343391e-01</td>\n",
       "      <td>-6.729989e-01</td>\n",
       "      <td>4.271170e-01</td>\n",
       "      <td>-8.625466e-01</td>\n",
       "      <td>8.957852e-01</td>\n",
       "      <td>1.428960e-02</td>\n",
       "      <td>2.075050e-01</td>\n",
       "      <td>5.052512e-02</td>\n",
       "      <td>0.975862</td>\n",
       "      <td>1.000000</td>\n",
       "    </tr>\n",
       "  </tbody>\n",
       "</table>\n",
       "</div>"
      ],
      "text/plain": [
       "              X1            X2            X3            X4            X5  \\\n",
       "X1  1.000000e+00 -9.919015e-01 -2.037817e-01 -8.688234e-01  8.277473e-01   \n",
       "X2 -9.919015e-01  1.000000e+00  1.955016e-01  8.807195e-01 -8.581477e-01   \n",
       "X3 -2.037817e-01  1.955016e-01  1.000000e+00 -2.923165e-01  2.809757e-01   \n",
       "X4 -8.688234e-01  8.807195e-01 -2.923165e-01  1.000000e+00 -9.725122e-01   \n",
       "X5  8.277473e-01 -8.581477e-01  2.809757e-01 -9.725122e-01  1.000000e+00   \n",
       "X6  4.678592e-17 -3.459372e-17 -2.429499e-17 -5.830058e-17  4.492205e-17   \n",
       "X7 -2.960552e-15  3.636925e-15 -8.567455e-17 -1.759011e-15  1.489134e-17   \n",
       "X8 -7.107006e-16  2.438409e-15  2.067384e-16 -1.078071e-15 -2.920613e-17   \n",
       "Y1  6.222719e-01 -6.581199e-01  4.556714e-01 -8.618281e-01  8.894305e-01   \n",
       "Y2  6.343391e-01 -6.729989e-01  4.271170e-01 -8.625466e-01  8.957852e-01   \n",
       "\n",
       "              X6            X7            X8        Y1        Y2  \n",
       "X1  4.678592e-17 -2.960552e-15 -7.107006e-16  0.622272  0.634339  \n",
       "X2 -3.459372e-17  3.636925e-15  2.438409e-15 -0.658120 -0.672999  \n",
       "X3 -2.429499e-17 -8.567455e-17  2.067384e-16  0.455671  0.427117  \n",
       "X4 -5.830058e-17 -1.759011e-15 -1.078071e-15 -0.861828 -0.862547  \n",
       "X5  4.492205e-17  1.489134e-17 -2.920613e-17  0.889430  0.895785  \n",
       "X6  1.000000e+00 -9.406007e-16 -2.549352e-16 -0.002587  0.014290  \n",
       "X7 -9.406007e-16  1.000000e+00  2.129642e-01  0.269842  0.207505  \n",
       "X8 -2.549352e-16  2.129642e-01  1.000000e+00  0.087368  0.050525  \n",
       "Y1 -2.586763e-03  2.698417e-01  8.736846e-02  1.000000  0.975862  \n",
       "Y2  1.428960e-02  2.075050e-01  5.052512e-02  0.975862  1.000000  "
      ]
     },
     "execution_count": 265,
     "metadata": {},
     "output_type": "execute_result"
    }
   ],
   "source": [
    "data.corr() #Calculating co-relation"
   ]
  },
  {
   "cell_type": "code",
   "execution_count": 266,
   "id": "51e94016",
   "metadata": {},
   "outputs": [
    {
     "data": {
      "text/plain": [
       "<AxesSubplot:>"
      ]
     },
     "execution_count": 266,
     "metadata": {},
     "output_type": "execute_result"
    },
    {
     "data": {
      "image/png": "[encoded data removed]",
      "text/plain": [
       "<Figure size 1440x1296 with 2 Axes>"
      ]
     },
     "metadata": {
      "needs_background": "light"
     },
     "output_type": "display_data"
    }
   ],
   "source": [
    "plt.subplots(figsize=(20,18))\n",
    "sns.heatmap(data.corr(),annot=True, cmap=\"YlGnBu\",fmt='0.3f')"
   ]
  },
  {
   "cell_type": "markdown",
   "id": "073c2753",
   "metadata": {},
   "source": [
    "Here we get high corelation between X5-Y1=0.889, X5-X1=0.828, X2-X4=0.881.\n",
    "So, this attributes are highly corelated."
   ]
  },
  {
   "cell_type": "code",
   "execution_count": 267,
   "id": "15ccae2e",
   "metadata": {},
   "outputs": [],
   "source": [
    "import statsmodels.formula.api as smf # fitting regression model\n",
    "\n",
    "model02 = smf.ols('Y1~X1+X2+X3+X4+X5+X6+X7+X8', data = data).fit()"
   ]
  },
  {
   "cell_type": "code",
   "execution_count": 268,
   "id": "6916286d",
   "metadata": {},
   "outputs": [
    {
     "data": {
      "text/plain": [
       "Intercept    84.013418\n",
       "X1          -64.773432\n",
       "X2           -0.062606\n",
       "X3            0.036129\n",
       "X4           -0.049368\n",
       "X5            4.169954\n",
       "X6           -0.023330\n",
       "X7           19.932736\n",
       "X8            0.203777\n",
       "dtype: float64"
      ]
     },
     "execution_count": 268,
     "metadata": {},
     "output_type": "execute_result"
    }
   ],
   "source": [
    "model02.params "
   ]
  },
  {
   "cell_type": "code",
   "execution_count": 269,
   "id": "d4004754",
   "metadata": {},
   "outputs": [
    {
     "data": {
      "text/html": [
       "<table class=\"simpletable\">\n",
       "<caption>OLS Regression Results</caption>\n",
       "<tr>\n",
       "  <th>Dep. Variable:</th>           <td>Y1</td>        <th>  R-squared:         </th> <td>   0.916</td>\n",
       "</tr>\n",
       "<tr>\n",
       "  <th>Model:</th>                   <td>OLS</td>       <th>  Adj. R-squared:    </th> <td>   0.915</td>\n",
       "</tr>\n",
       "<tr>\n",
       "  <th>Method:</th>             <td>Least Squares</td>  <th>  F-statistic:       </th> <td>   1187.</td>\n",
       "</tr>\n",
       "<tr>\n",
       "  <th>Date:</th>             <td>Sun, 06 Feb 2022</td> <th>  Prob (F-statistic):</th>  <td>  0.00</td> \n",
       "</tr>\n",
       "<tr>\n",
       "  <th>Time:</th>                 <td>21:58:54</td>     <th>  Log-Likelihood:    </th> <td> -1912.5</td>\n",
       "</tr>\n",
       "<tr>\n",
       "  <th>No. Observations:</th>      <td>   768</td>      <th>  AIC:               </th> <td>   3841.</td>\n",
       "</tr>\n",
       "<tr>\n",
       "  <th>Df Residuals:</th>          <td>   760</td>      <th>  BIC:               </th> <td>   3878.</td>\n",
       "</tr>\n",
       "<tr>\n",
       "  <th>Df Model:</th>              <td>     7</td>      <th>                     </th>     <td> </td>   \n",
       "</tr>\n",
       "<tr>\n",
       "  <th>Covariance Type:</th>      <td>nonrobust</td>    <th>                     </th>     <td> </td>   \n",
       "</tr>\n",
       "</table>\n",
       "<table class=\"simpletable\">\n",
       "<tr>\n",
       "      <td></td>         <th>coef</th>     <th>std err</th>      <th>t</th>      <th>P>|t|</th>  <th>[0.025</th>    <th>0.975]</th>  \n",
       "</tr>\n",
       "<tr>\n",
       "  <th>Intercept</th> <td>   84.0134</td> <td>   19.034</td> <td>    4.414</td> <td> 0.000</td> <td>   46.649</td> <td>  121.378</td>\n",
       "</tr>\n",
       "<tr>\n",
       "  <th>X1</th>        <td>  -64.7734</td> <td>   10.289</td> <td>   -6.295</td> <td> 0.000</td> <td>  -84.973</td> <td>  -44.574</td>\n",
       "</tr>\n",
       "<tr>\n",
       "  <th>X2</th>        <td>   -0.0626</td> <td>    0.013</td> <td>   -4.670</td> <td> 0.000</td> <td>   -0.089</td> <td>   -0.036</td>\n",
       "</tr>\n",
       "<tr>\n",
       "  <th>X3</th>        <td>    0.0361</td> <td>    0.004</td> <td>    9.386</td> <td> 0.000</td> <td>    0.029</td> <td>    0.044</td>\n",
       "</tr>\n",
       "<tr>\n",
       "  <th>X4</th>        <td>   -0.0494</td> <td>    0.008</td> <td>   -6.569</td> <td> 0.000</td> <td>   -0.064</td> <td>   -0.035</td>\n",
       "</tr>\n",
       "<tr>\n",
       "  <th>X5</th>        <td>    4.1700</td> <td>    0.338</td> <td>   12.338</td> <td> 0.000</td> <td>    3.506</td> <td>    4.833</td>\n",
       "</tr>\n",
       "<tr>\n",
       "  <th>X6</th>        <td>   -0.0233</td> <td>    0.095</td> <td>   -0.246</td> <td> 0.805</td> <td>   -0.209</td> <td>    0.163</td>\n",
       "</tr>\n",
       "<tr>\n",
       "  <th>X7</th>        <td>   19.9327</td> <td>    0.814</td> <td>   24.488</td> <td> 0.000</td> <td>   18.335</td> <td>   21.531</td>\n",
       "</tr>\n",
       "<tr>\n",
       "  <th>X8</th>        <td>    0.2038</td> <td>    0.070</td> <td>    2.915</td> <td> 0.004</td> <td>    0.067</td> <td>    0.341</td>\n",
       "</tr>\n",
       "</table>\n",
       "<table class=\"simpletable\">\n",
       "<tr>\n",
       "  <th>Omnibus:</th>       <td>18.647</td> <th>  Durbin-Watson:     </th> <td>   0.654</td>\n",
       "</tr>\n",
       "<tr>\n",
       "  <th>Prob(Omnibus):</th> <td> 0.000</td> <th>  Jarque-Bera (JB):  </th> <td>  37.707</td>\n",
       "</tr>\n",
       "<tr>\n",
       "  <th>Skew:</th>          <td> 0.044</td> <th>  Prob(JB):          </th> <td>6.49e-09</td>\n",
       "</tr>\n",
       "<tr>\n",
       "  <th>Kurtosis:</th>      <td> 4.082</td> <th>  Cond. No.          </th> <td>1.26e+16</td>\n",
       "</tr>\n",
       "</table><br/><br/>Notes:<br/>[1] Standard Errors assume that the covariance matrix of the errors is correctly specified.<br/>[2] The smallest eigenvalue is 2.85e-24. This might indicate that there are<br/>strong multicollinearity problems or that the design matrix is singular."
      ],
      "text/plain": [
       "<class 'statsmodels.iolib.summary.Summary'>\n",
       "\"\"\"\n",
       "                            OLS Regression Results                            \n",
       "==============================================================================\n",
       "Dep. Variable:                     Y1   R-squared:                       0.916\n",
       "Model:                            OLS   Adj. R-squared:                  0.915\n",
       "Method:                 Least Squares   F-statistic:                     1187.\n",
       "Date:                Sun, 06 Feb 2022   Prob (F-statistic):               0.00\n",
       "Time:                        21:58:54   Log-Likelihood:                -1912.5\n",
       "No. Observations:                 768   AIC:                             3841.\n",
       "Df Residuals:                     760   BIC:                             3878.\n",
       "Df Model:                           7                                         \n",
       "Covariance Type:            nonrobust                                         \n",
       "==============================================================================\n",
       "                 coef    std err          t      P>|t|      [0.025      0.975]\n",
       "------------------------------------------------------------------------------\n",
       "Intercept     84.0134     19.034      4.414      0.000      46.649     121.378\n",
       "X1           -64.7734     10.289     -6.295      0.000     -84.973     -44.574\n",
       "X2            -0.0626      0.013     -4.670      0.000      -0.089      -0.036\n",
       "X3             0.0361      0.004      9.386      0.000       0.029       0.044\n",
       "X4            -0.0494      0.008     -6.569      0.000      -0.064      -0.035\n",
       "X5             4.1700      0.338     12.338      0.000       3.506       4.833\n",
       "X6            -0.0233      0.095     -0.246      0.805      -0.209       0.163\n",
       "X7            19.9327      0.814     24.488      0.000      18.335      21.531\n",
       "X8             0.2038      0.070      2.915      0.004       0.067       0.341\n",
       "==============================================================================\n",
       "Omnibus:                       18.647   Durbin-Watson:                   0.654\n",
       "Prob(Omnibus):                  0.000   Jarque-Bera (JB):               37.707\n",
       "Skew:                           0.044   Prob(JB):                     6.49e-09\n",
       "Kurtosis:                       4.082   Cond. No.                     1.26e+16\n",
       "==============================================================================\n",
       "\n",
       "Notes:\n",
       "[1] Standard Errors assume that the covariance matrix of the errors is correctly specified.\n",
       "[2] The smallest eigenvalue is 2.85e-24. This might indicate that there are\n",
       "strong multicollinearity problems or that the design matrix is singular.\n",
       "\"\"\""
      ]
     },
     "execution_count": 269,
     "metadata": {},
     "output_type": "execute_result"
    }
   ],
   "source": [
    "model02.summary()"
   ]
  },
  {
   "cell_type": "markdown",
   "id": "ecc0ba1f",
   "metadata": {},
   "source": [
    "There is high p and less correlation value for x6."
   ]
  },
  {
   "cell_type": "code",
   "execution_count": 270,
   "id": "87bf7dd1",
   "metadata": {},
   "outputs": [
    {
     "data": {
      "text/html": [
       "<table class=\"simpletable\">\n",
       "<caption>OLS Regression Results</caption>\n",
       "<tr>\n",
       "  <th>Dep. Variable:</th>           <td>Y1</td>        <th>  R-squared:         </th> <td>   0.916</td>\n",
       "</tr>\n",
       "<tr>\n",
       "  <th>Model:</th>                   <td>OLS</td>       <th>  Adj. R-squared:    </th> <td>   0.916</td>\n",
       "</tr>\n",
       "<tr>\n",
       "  <th>Method:</th>             <td>Least Squares</td>  <th>  F-statistic:       </th> <td>   1387.</td>\n",
       "</tr>\n",
       "<tr>\n",
       "  <th>Date:</th>             <td>Sun, 06 Feb 2022</td> <th>  Prob (F-statistic):</th>  <td>  0.00</td> \n",
       "</tr>\n",
       "<tr>\n",
       "  <th>Time:</th>                 <td>21:58:54</td>     <th>  Log-Likelihood:    </th> <td> -1912.5</td>\n",
       "</tr>\n",
       "<tr>\n",
       "  <th>No. Observations:</th>      <td>   768</td>      <th>  AIC:               </th> <td>   3839.</td>\n",
       "</tr>\n",
       "<tr>\n",
       "  <th>Df Residuals:</th>          <td>   761</td>      <th>  BIC:               </th> <td>   3871.</td>\n",
       "</tr>\n",
       "<tr>\n",
       "  <th>Df Model:</th>              <td>     6</td>      <th>                     </th>     <td> </td>   \n",
       "</tr>\n",
       "<tr>\n",
       "  <th>Covariance Type:</th>      <td>nonrobust</td>    <th>                     </th>     <td> </td>   \n",
       "</tr>\n",
       "</table>\n",
       "<table class=\"simpletable\">\n",
       "<tr>\n",
       "      <td></td>         <th>coef</th>     <th>std err</th>      <th>t</th>      <th>P>|t|</th>  <th>[0.025</th>    <th>0.975]</th>  \n",
       "</tr>\n",
       "<tr>\n",
       "  <th>Intercept</th> <td>   83.9318</td> <td>   19.019</td> <td>    4.413</td> <td> 0.000</td> <td>   46.596</td> <td>  121.268</td>\n",
       "</tr>\n",
       "<tr>\n",
       "  <th>X1</th>        <td>  -64.7734</td> <td>   10.283</td> <td>   -6.299</td> <td> 0.000</td> <td>  -84.960</td> <td>  -44.587</td>\n",
       "</tr>\n",
       "<tr>\n",
       "  <th>X2</th>        <td>   -0.0626</td> <td>    0.013</td> <td>   -4.673</td> <td> 0.000</td> <td>   -0.089</td> <td>   -0.036</td>\n",
       "</tr>\n",
       "<tr>\n",
       "  <th>X3</th>        <td>    0.0361</td> <td>    0.004</td> <td>    9.392</td> <td> 0.000</td> <td>    0.029</td> <td>    0.044</td>\n",
       "</tr>\n",
       "<tr>\n",
       "  <th>X4</th>        <td>   -0.0494</td> <td>    0.008</td> <td>   -6.573</td> <td> 0.000</td> <td>   -0.064</td> <td>   -0.035</td>\n",
       "</tr>\n",
       "<tr>\n",
       "  <th>X5</th>        <td>    4.1700</td> <td>    0.338</td> <td>   12.345</td> <td> 0.000</td> <td>    3.507</td> <td>    4.833</td>\n",
       "</tr>\n",
       "<tr>\n",
       "  <th>X7</th>        <td>   19.9327</td> <td>    0.813</td> <td>   24.503</td> <td> 0.000</td> <td>   18.336</td> <td>   21.530</td>\n",
       "</tr>\n",
       "<tr>\n",
       "  <th>X8</th>        <td>    0.2038</td> <td>    0.070</td> <td>    2.916</td> <td> 0.004</td> <td>    0.067</td> <td>    0.341</td>\n",
       "</tr>\n",
       "</table>\n",
       "<table class=\"simpletable\">\n",
       "<tr>\n",
       "  <th>Omnibus:</th>       <td>18.654</td> <th>  Durbin-Watson:     </th> <td>   0.654</td>\n",
       "</tr>\n",
       "<tr>\n",
       "  <th>Prob(Omnibus):</th> <td> 0.000</td> <th>  Jarque-Bera (JB):  </th> <td>  37.739</td>\n",
       "</tr>\n",
       "<tr>\n",
       "  <th>Skew:</th>          <td> 0.044</td> <th>  Prob(JB):          </th> <td>6.38e-09</td>\n",
       "</tr>\n",
       "<tr>\n",
       "  <th>Kurtosis:</th>      <td> 4.082</td> <th>  Cond. No.          </th> <td>1.26e+16</td>\n",
       "</tr>\n",
       "</table><br/><br/>Notes:<br/>[1] Standard Errors assume that the covariance matrix of the errors is correctly specified.<br/>[2] The smallest eigenvalue is 2.85e-24. This might indicate that there are<br/>strong multicollinearity problems or that the design matrix is singular."
      ],
      "text/plain": [
       "<class 'statsmodels.iolib.summary.Summary'>\n",
       "\"\"\"\n",
       "                            OLS Regression Results                            \n",
       "==============================================================================\n",
       "Dep. Variable:                     Y1   R-squared:                       0.916\n",
       "Model:                            OLS   Adj. R-squared:                  0.916\n",
       "Method:                 Least Squares   F-statistic:                     1387.\n",
       "Date:                Sun, 06 Feb 2022   Prob (F-statistic):               0.00\n",
       "Time:                        21:58:54   Log-Likelihood:                -1912.5\n",
       "No. Observations:                 768   AIC:                             3839.\n",
       "Df Residuals:                     761   BIC:                             3871.\n",
       "Df Model:                           6                                         \n",
       "Covariance Type:            nonrobust                                         \n",
       "==============================================================================\n",
       "                 coef    std err          t      P>|t|      [0.025      0.975]\n",
       "------------------------------------------------------------------------------\n",
       "Intercept     83.9318     19.019      4.413      0.000      46.596     121.268\n",
       "X1           -64.7734     10.283     -6.299      0.000     -84.960     -44.587\n",
       "X2            -0.0626      0.013     -4.673      0.000      -0.089      -0.036\n",
       "X3             0.0361      0.004      9.392      0.000       0.029       0.044\n",
       "X4            -0.0494      0.008     -6.573      0.000      -0.064      -0.035\n",
       "X5             4.1700      0.338     12.345      0.000       3.507       4.833\n",
       "X7            19.9327      0.813     24.503      0.000      18.336      21.530\n",
       "X8             0.2038      0.070      2.916      0.004       0.067       0.341\n",
       "==============================================================================\n",
       "Omnibus:                       18.654   Durbin-Watson:                   0.654\n",
       "Prob(Omnibus):                  0.000   Jarque-Bera (JB):               37.739\n",
       "Skew:                           0.044   Prob(JB):                     6.38e-09\n",
       "Kurtosis:                       4.082   Cond. No.                     1.26e+16\n",
       "==============================================================================\n",
       "\n",
       "Notes:\n",
       "[1] Standard Errors assume that the covariance matrix of the errors is correctly specified.\n",
       "[2] The smallest eigenvalue is 2.85e-24. This might indicate that there are\n",
       "strong multicollinearity problems or that the design matrix is singular.\n",
       "\"\"\""
      ]
     },
     "execution_count": 270,
     "metadata": {},
     "output_type": "execute_result"
    }
   ],
   "source": [
    "model03=smf.ols('Y1~X1+X2+X3+X4+X5+X7+X8',data=data).fit()  # fitting the model by droping X6\n",
    "model03.summary()"
   ]
  },
  {
   "cell_type": "markdown",
   "id": "42adfec0",
   "metadata": {},
   "source": [
    "Here we get r-squared value 0.916 and model fit perfectly."
   ]
  },
  {
   "cell_type": "code",
   "execution_count": 271,
   "id": "e8a7ca57",
   "metadata": {},
   "outputs": [
    {
     "data": {
      "text/plain": [
       "0      22.612183\n",
       "1      22.612183\n",
       "2      22.612183\n",
       "3      22.612183\n",
       "4      25.006803\n",
       "         ...    \n",
       "763    18.487654\n",
       "764    19.134457\n",
       "765    19.134457\n",
       "766    19.134457\n",
       "767    19.134457\n",
       "Length: 768, dtype: float64"
      ]
     },
     "execution_count": 271,
     "metadata": {},
     "output_type": "execute_result"
    }
   ],
   "source": [
    "pred03=model03.predict(data)  #predicting \n",
    "pred03"
   ]
  },
  {
   "cell_type": "code",
   "execution_count": 272,
   "id": "9cc85782",
   "metadata": {},
   "outputs": [
    {
     "data": {
      "image/png": "[encoded data removed]",
      "text/plain": [
       "<Figure size 432x288 with 8 Axes>"
      ]
     },
     "execution_count": 272,
     "metadata": {},
     "output_type": "execute_result"
    },
    {
     "data": {
      "image/png": "[encoded data removed]",
      "text/plain": [
       "<Figure size 432x288 with 8 Axes>"
      ]
     },
     "metadata": {
      "needs_background": "light"
     },
     "output_type": "display_data"
    }
   ],
   "source": [
    "# added variable plot for the  model03\n",
    "sm.graphics.plot_partregress_grid(model03)"
   ]
  },
  {
   "cell_type": "code",
   "execution_count": 273,
   "id": "6a61e3d4",
   "metadata": {},
   "outputs": [
    {
     "data": {
      "text/plain": [
       "Text(0, 0.5, 'predicted_values')"
      ]
     },
     "execution_count": 273,
     "metadata": {},
     "output_type": "execute_result"
    },
    {
     "data": {
      "image/png": "[encoded data removed]",
      "text/plain": [
       "<Figure size 432x288 with 1 Axes>"
      ]
     },
     "metadata": {
      "needs_background": "light"
     },
     "output_type": "display_data"
    }
   ],
   "source": [
    "# Observed values VS Predicted values\n",
    "plt.scatter(data.Y1,pred03,c=\"r\");plt.xlabel(\"observed_values\");plt.ylabel(\"predicted_values\")"
   ]
  },
  {
   "cell_type": "code",
   "execution_count": 274,
   "id": "4e66c5a9",
   "metadata": {},
   "outputs": [],
   "source": [
    "m,b=np.polyfit(data.Y1,pred03,1)"
   ]
  },
  {
   "cell_type": "code",
   "execution_count": 275,
   "id": "b2d5ac1e",
   "metadata": {},
   "outputs": [
    {
     "data": {
      "text/plain": [
       "[<matplotlib.lines.Line2D at 0x2420d5dbb50>]"
      ]
     },
     "execution_count": 275,
     "metadata": {},
     "output_type": "execute_result"
    },
    {
     "data": {
      "image/png": "[encoded data removed]",
      "text/plain": [
       "<Figure size 432x288 with 1 Axes>"
      ]
     },
     "metadata": {
      "needs_background": "light"
     },
     "output_type": "display_data"
    }
   ],
   "source": [
    "plt.scatter(data.Y1,pred03,c=\"r\");plt.xlabel(\"observed_values\");plt.ylabel(\"predicted_values\");plt.plot(data.Y1,m*data.Y1+b)"
   ]
  },
  {
   "cell_type": "code",
   "execution_count": 276,
   "id": "6ccebe63",
   "metadata": {},
   "outputs": [
    {
     "data": {
      "text/plain": [
       "Text(0, 0.5, 'residuals')"
      ]
     },
     "execution_count": 276,
     "metadata": {},
     "output_type": "execute_result"
    },
    {
     "data": {
      "image/png": "[encoded data removed]",
      "text/plain": [
       "<Figure size 432x288 with 1 Axes>"
      ]
     },
     "metadata": {
      "needs_background": "light"
     },
     "output_type": "display_data"
    }
   ],
   "source": [
    "#residual value vs predicted values\n",
    "plt.scatter(pred03,model03.resid_pearson,c=\"r\"),plt.axhline(y=0,color='blue');plt.xlabel(\"predicted_values\");plt.ylabel(\"residuals\")"
   ]
  },
  {
   "cell_type": "code",
   "execution_count": 277,
   "id": "8cae4b0e",
   "metadata": {},
   "outputs": [
    {
     "data": {
      "text/plain": [
       "(array([  4.,  14.,  43.,  27., 134., 271., 167.,  48.,  17.,  43.]),\n",
       " array([-3.38669225, -2.78487227, -2.1830523 , -1.58123232, -0.97941235,\n",
       "        -0.37759237,  0.2242276 ,  0.82604758,  1.42786755,  2.02968753,\n",
       "         2.6315075 ]),\n",
       " <BarContainer object of 10 artists>)"
      ]
     },
     "execution_count": 277,
     "metadata": {},
     "output_type": "execute_result"
    },
    {
     "data": {
      "image/png": "[encoded data removed]",
      "text/plain": [
       "<Figure size 432x288 with 1 Axes>"
      ]
     },
     "metadata": {
      "needs_background": "light"
     },
     "output_type": "display_data"
    }
   ],
   "source": [
    "plt.hist(model03.resid_pearson) # Checking if the standardized residuals are normally distributed"
   ]
  },
  {
   "cell_type": "code",
   "execution_count": 278,
   "id": "b00d1ed8",
   "metadata": {},
   "outputs": [
    {
     "data": {
      "text/plain": [
       "((537, 10), '  ', (231, 10))"
      ]
     },
     "execution_count": 278,
     "metadata": {},
     "output_type": "execute_result"
    }
   ],
   "source": [
    "# Splitting the data into train and test data \n",
    "\n",
    "data_train,data_test  = train_test_split(data,test_size = 0.3,random_state=22) # 30% size\n",
    "\n",
    "data_train.shape,'  ',data_test.shape"
   ]
  },
  {
   "cell_type": "code",
   "execution_count": 279,
   "id": "9597538f",
   "metadata": {},
   "outputs": [],
   "source": [
    "# preparing the model on train data \n",
    "\n",
    "model_train = smf.ols(\"Y1~X1+X2+X3+X4+X5+X7+X8\",data=data_train).fit()\n",
    "\n",
    "# train_data prediction\n",
    "train_pred = model_train.predict(data_train)"
   ]
  },
  {
   "cell_type": "code",
   "execution_count": 280,
   "id": "05a75829",
   "metadata": {},
   "outputs": [],
   "source": [
    "# train residual values \n",
    "train_resid  = train_pred - data_train.Y1"
   ]
  },
  {
   "cell_type": "code",
   "execution_count": 281,
   "id": "9888b7d1",
   "metadata": {},
   "outputs": [
    {
     "data": {
      "text/plain": [
       "2.914656888178612"
      ]
     },
     "execution_count": 281,
     "metadata": {},
     "output_type": "execute_result"
    }
   ],
   "source": [
    "# RMSE value for train data \n",
    "train_rmse = np.sqrt(np.mean(train_resid*train_resid))\n",
    "train_rmse"
   ]
  },
  {
   "cell_type": "code",
   "execution_count": 282,
   "id": "a9b03658",
   "metadata": {},
   "outputs": [
    {
     "data": {
      "text/plain": [
       "2.912662173943254"
      ]
     },
     "execution_count": 282,
     "metadata": {},
     "output_type": "execute_result"
    }
   ],
   "source": [
    "# preparing the model on testing data \n",
    "\n",
    "model_test = smf.ols(\"Y1~X1+X2+X3+X4+X5+X7+X8\",data=data_test).fit()\n",
    "\n",
    "# test_data prediction\n",
    "test_pred = model_test.predict(data_test)\n",
    "# test residual values \n",
    "test_resid  = test_pred - data_test.Y1\n",
    "# RMSE value for test data \n",
    "test_rmse = np.sqrt(np.mean(test_resid*test_resid))\n",
    "test_rmse"
   ]
  },
  {
   "cell_type": "code",
   "execution_count": 283,
   "id": "0c120380",
   "metadata": {},
   "outputs": [
    {
     "data": {
      "text/plain": [
       "2.919111981245407"
      ]
     },
     "execution_count": 283,
     "metadata": {},
     "output_type": "execute_result"
    }
   ],
   "source": [
    "data_resid=pred03-data.Y1\n",
    "rmse_LR=np.sqrt(np.mean(data_resid*data_resid))\n",
    "rmse_LR  #RMSE for data"
   ]
  },
  {
   "cell_type": "code",
   "execution_count": 284,
   "id": "c2fe85ff",
   "metadata": {},
   "outputs": [
    {
     "data": {
      "text/plain": [
       "0.9161954736036447"
      ]
     },
     "execution_count": 284,
     "metadata": {},
     "output_type": "execute_result"
    }
   ],
   "source": [
    "R2_LR = np.mean(r2_score(Y.Y1, pred03))\n",
    "R2_LR"
   ]
  },
  {
   "cell_type": "markdown",
   "id": "b3c4875d",
   "metadata": {},
   "source": [
    "# Regression using Sklearn"
   ]
  },
  {
   "cell_type": "code",
   "execution_count": 285,
   "id": "0f65a333",
   "metadata": {},
   "outputs": [
    {
     "data": {
      "text/plain": [
       "LinearRegression()"
      ]
     },
     "execution_count": 285,
     "metadata": {},
     "output_type": "execute_result"
    }
   ],
   "source": [
    "from sklearn.linear_model import LinearRegression  # fitting model\n",
    "model01=LinearRegression().fit(X_train,Y_train)\n",
    "model01"
   ]
  },
  {
   "cell_type": "code",
   "execution_count": 286,
   "id": "7704c440",
   "metadata": {},
   "outputs": [
    {
     "data": {
      "text/plain": [
       "array([[17.86470923, 19.39968901],\n",
       "       [18.7228384 , 19.89723028],\n",
       "       [11.51769476, 14.35010821],\n",
       "       [27.84622902, 29.9085401 ],\n",
       "       [18.41213097, 19.87070239],\n",
       "       [ 5.54551773, 10.80341046],\n",
       "       [11.89406404, 14.91768654],\n",
       "       [29.26969939, 31.91890901],\n",
       "       [31.95127007, 31.92707703],\n",
       "       [15.33662108, 17.78448945],\n",
       "       [28.8466523 , 29.9804495 ],\n",
       "       [13.87113556, 16.80282025],\n",
       "       [ 9.45176773, 13.81903546],\n",
       "       [29.64434985, 32.18638945],\n",
       "       [32.71985973, 34.2726024 ],\n",
       "       [17.61221758, 19.1018028 ],\n",
       "       [39.64589549, 39.76985675],\n",
       "       [10.61281404, 13.84346779],\n",
       "       [30.9766356 , 33.34184693],\n",
       "       [10.16623351, 13.97345838],\n",
       "       [28.44289395, 29.85255447],\n",
       "       [12.74458991, 15.92833733],\n",
       "       [31.69117512, 32.14230034],\n",
       "       [28.7377503 , 31.37183865],\n",
       "       [14.91135815, 17.2830703 ],\n",
       "       [25.56926324, 27.83028905],\n",
       "       [12.42815524, 15.38168606],\n",
       "       [31.20762267, 33.26620904],\n",
       "       [28.61566523, 30.0560874 ],\n",
       "       [16.07847592, 17.71797908],\n",
       "       [11.63225026, 14.83281196],\n",
       "       [11.43208991, 15.06896233],\n",
       "       [12.77369781, 15.78875191],\n",
       "       [32.45976478, 34.4878257 ],\n",
       "       [31.09451019, 32.19828597],\n",
       "       [28.50110973, 29.57338365],\n",
       "       [31.31652466, 31.87481989],\n",
       "       [ 8.03842652, 12.13600024],\n",
       "       [15.38723356, 18.02624064],\n",
       "       [25.85846609, 27.47548033],\n",
       "       [15.84748886, 17.79361697],\n",
       "       [25.8002503 , 27.75465115],\n",
       "       [30.94752771, 33.48143235],\n",
       "       [29.04127771, 31.75682297],\n",
       "       [32.08767971, 33.98262132],\n",
       "       [39.87688255, 39.69421885],\n",
       "       [14.94046604, 17.14348489],\n",
       "       [31.48929594, 32.07835282],\n",
       "       [ 8.18208991, 12.47911858],\n",
       "       [33.89863407, 35.7253259 ],\n",
       "       [ 9.89834826, 13.68513861],\n",
       "       [34.28313255, 35.35242198],\n",
       "       [12.63003441, 15.44563357],\n",
       "       [15.87831558, 17.73537944],\n",
       "       [33.76626173, 34.15660387],\n",
       "       [17.20845923, 18.97390776],\n",
       "       [13.65921604, 16.06926614],\n",
       "       [11.86495615, 15.05727195],\n",
       "       [11.08654735, 14.66189647],\n",
       "       [26.60051324, 29.72286717],\n",
       "       [31.11464549, 31.81087237],\n",
       "       [15.79099191, 18.15413568],\n",
       "       [15.64732852, 17.81101734],\n",
       "       [32.66164395, 34.55177322],\n",
       "       [18.69373051, 20.03681569],\n",
       "       [14.30572063, 17.09122775],\n",
       "       [ 6.85801773, 11.88153546],\n",
       "       [31.14940689, 33.54537986],\n",
       "       [ 9.5528057 , 13.27807275],\n",
       "       [30.31610139, 31.80291049],\n",
       "       [39.81866677, 39.97338968],\n",
       "       [16.08019476, 17.79932696],\n",
       "       [33.50616677, 34.37182718],\n",
       "       [11.66307698, 14.99332443],\n",
       "       [31.92216218, 32.06666244],\n",
       "       [15.18363556, 17.88094525],\n",
       "       [25.65658691, 27.41153281],\n",
       "       [14.96197063, 17.517009  ],\n",
       "       [16.09998051, 18.10322194],\n",
       "       [19.03927308, 20.44388155],\n",
       "       [29.70513102, 31.6694947 ],\n",
       "       [15.19295769, 17.44137111],\n",
       "       [33.09451019, 34.54008284],\n",
       "       [26.28407857, 29.1762159 ],\n",
       "       [12.54271074, 15.86438981],\n",
       "       [34.22491677, 35.6315928 ],\n",
       "       [13.20656404, 15.77706154],\n",
       "       [29.0703856 , 31.61723756],\n",
       "       [25.62747902, 27.55111822],\n",
       "       [12.36993946, 15.66085688],\n",
       "       [19.29936803, 20.22865824],\n",
       "       [28.41378606, 29.99213988],\n",
       "       [15.41634145, 17.88665523],\n",
       "       [34.3315003 , 35.71363553],\n",
       "       [17.32301473, 19.45661151],\n",
       "       [13.03207393, 15.49218073],\n",
       "       [26.48595774, 29.24016342],\n",
       "       [33.93903301, 34.3601368 ],\n",
       "       [34.59956723, 35.89907325],\n",
       "       [34.14091218, 34.42408432],\n",
       "       [ 8.79551773, 13.39325421],\n",
       "       [33.78407857, 35.24262215],\n",
       "       [ 9.94896074, 13.93079606],\n",
       "       [ 8.44218487, 12.26389527],\n",
       "       [33.67893805, 34.57536011],\n",
       "       [28.07721609, 29.8329022 ],\n",
       "       [27.47157857, 29.64105965],\n",
       "       [15.22206558, 17.30178569],\n",
       "       [11.22849191, 14.70491693],\n",
       "       [25.75563556, 29.28906467],\n",
       "       [35.53527466, 36.57403864],\n",
       "       [11.11565524, 14.52231106],\n",
       "       [15.44373051, 17.66572194],\n",
       "       [36.54127771, 37.82322922],\n",
       "       [29.64691523, 31.94866552],\n",
       "       [ 9.83440524, 13.44809231],\n",
       "       [13.42822897, 16.14490403],\n",
       "       [12.57942193, 15.20388238],\n",
       "       [15.83988556, 18.31844525],\n",
       "       [11.45947897, 14.62927903],\n",
       "       [28.36309985, 31.1043582 ],\n",
       "       [27.26969939, 29.57711213],\n",
       "       [12.77197897, 15.70740403],\n",
       "       [30.2578856 , 32.08208131],\n",
       "       [26.0530915 , 29.25185379],\n",
       "       [16.02026014, 17.9971499 ],\n",
       "       [ 7.51426773, 12.31903546],\n",
       "       [31.64048891, 33.25451866],\n",
       "       [31.0654023 , 32.33787138],\n",
       "       [29.58613407, 32.46556028],\n",
       "       [14.07301473, 16.86676776],\n",
       "       [12.5700998 , 15.64345652],\n",
       "       [30.22877771, 32.22166672],\n",
       "       [18.49185134, 19.97286817],\n",
       "       [37.43611808, 37.66026305],\n",
       "       [32.92430429, 34.09882598],\n",
       "       [37.00325184, 37.67195343],\n",
       "       [ 9.11993946, 13.28976313],\n",
       "       [11.31753441, 14.58625857],\n",
       "       [31.12361808, 32.05870055],\n",
       "       [16.28207393, 17.86327448],\n",
       "       [27.87533691, 29.76895469],\n",
       "       [36.59949349, 37.5440584 ],\n",
       "       [34.11180429, 34.56366973],\n",
       "       [39.99143805, 40.17692261],\n",
       "       [18.58490225, 20.07423532],\n",
       "       [34.6868909 , 35.48031701],\n",
       "       [16.67651014, 18.4346499 ],\n",
       "       [ 9.78379276, 13.20243486],\n",
       "       [ 8.67317193, 12.18825738],\n",
       "       [16.47463097, 18.37070239],\n",
       "       [25.59837113, 27.69070363],\n",
       "       [10.15083991, 13.99474358],\n",
       "       [13.63010815, 16.20885155],\n",
       "       [ 8.06753441, 11.99641482],\n",
       "       [ 9.58191359, 13.13848734],\n",
       "       [32.22877771, 34.5634636 ],\n",
       "       [24.94956188, 28.44805528],\n",
       "       [32.92173891, 34.33654991],\n",
       "       [22.78902766, 25.81146258],\n",
       "       [32.1167876 , 33.84303591],\n",
       "       [14.73858686, 17.07953737],\n",
       "       [27.41336278, 29.92023047],\n",
       "       [12.97385815, 15.77135155],\n",
       "       [10.58370615, 13.9830532 ],\n",
       "       [15.92720923, 17.89968901],\n",
       "       [11.4903057 , 14.7897915 ],\n",
       "       [30.28699349, 31.9424959 ],\n",
       "       [ 7.57248351, 12.03986463],\n",
       "       [ 9.32181863, 13.35371065],\n",
       "       [ 9.69646909, 13.62119109],\n",
       "       [27.98844939, 30.83687776],\n",
       "       [13.2263498 , 16.08095652],\n",
       "       [18.00837262, 19.74280735],\n",
       "       [17.35212262, 19.3170261 ],\n",
       "       [18.26846758, 19.52758405],\n",
       "       [34.0826964 , 34.70325514],\n",
       "       [15.4728384 , 17.52613653],\n",
       "       [24.97866977, 28.30846987],\n",
       "       [12.83191359, 15.50958109],\n",
       "       [15.99115225, 18.13673532],\n",
       "       [28.79596609, 31.09266783],\n",
       "       [17.77738556, 19.81844525],\n",
       "       [ 9.72557698, 13.48160568],\n",
       "       [30.48887267, 32.00644341],\n",
       "       [ 8.41307698, 12.40348068],\n",
       "       [12.57181863, 15.7248044 ],\n",
       "       [17.38123051, 19.17744069],\n",
       "       [15.86899345, 18.17885983],\n",
       "       [32.28955888, 34.04656884],\n",
       "       [12.59920769, 15.50387111],\n",
       "       [31.03629441, 32.47745679],\n",
       "       [12.29021909, 15.55869109],\n",
       "       [31.34563255, 31.73523448],\n",
       "       [31.29116977, 33.91003237],\n",
       "       [32.83441523, 34.75530615],\n",
       "       [18.0665884 , 19.46363653],\n",
       "       [15.44544934, 17.74706982],\n",
       "       [32.14589549, 33.7034505 ],\n",
       "       [13.00468487, 15.71311402],\n",
       "       [26.45684985, 29.37974883],\n",
       "       [10.64192193, 13.70388238],\n",
       "       [11.92317193, 14.77810113],\n",
       "       [35.56438255, 36.43445323],\n",
       "       [29.78801324, 32.5295078 ],\n",
       "       [19.09748886, 20.16471072],\n",
       "       [12.82259145, 15.95306148],\n",
       "       [32.63253606, 34.69135863],\n",
       "       [34.3606082 , 35.57405011],\n",
       "       [29.38425489, 32.40161276],\n",
       "       [28.87576019, 29.84086409],\n",
       "       [17.12113556, 19.392664  ],\n",
       "       [13.19724191, 16.22054193],\n",
       "       [ 5.6328414 , 10.38465422],\n",
       "       [29.67602312, 31.80908011],\n",
       "       [12.79348356, 16.09264689],\n",
       "       [29.2405915 , 32.05849442],\n",
       "       [32.34777466, 33.76739802],\n",
       "       [ 9.17815524, 13.01059231],\n",
       "       [16.04176473, 18.38239276],\n",
       "       [10.23816359, 13.57598734],\n",
       "       [14.53498886, 16.71549197],\n",
       "       [12.94475026, 15.91093696],\n",
       "       [31.66206723, 32.28188575],\n",
       "       [27.00576304, 30.36708857],\n",
       "       [35.88076304, 36.83583857],\n",
       "       [29.28701304, 31.5409167 ],\n",
       "       [11.25576304, 14.28505732],\n",
       "       [32.25576304, 34.14052607],\n",
       "       [34.59951304, 35.75380732],\n",
       "       [26.63076304, 29.58583857]])"
      ]
     },
     "execution_count": 286,
     "metadata": {},
     "output_type": "execute_result"
    }
   ],
   "source": [
    "pred01=model01.predict(X_test)   # predicting\n",
    "pred01"
   ]
  },
  {
   "cell_type": "code",
   "execution_count": 287,
   "id": "46deb23e",
   "metadata": {},
   "outputs": [
    {
     "data": {
      "text/html": [
       "<div>\n",
       "<style scoped>\n",
       "    .dataframe tbody tr th:only-of-type {\n",
       "        vertical-align: middle;\n",
       "    }\n",
       "\n",
       "    .dataframe tbody tr th {\n",
       "        vertical-align: top;\n",
       "    }\n",
       "\n",
       "    .dataframe thead th {\n",
       "        text-align: right;\n",
       "    }\n",
       "</style>\n",
       "<table border=\"1\" class=\"dataframe\">\n",
       "  <thead>\n",
       "    <tr style=\"text-align: right;\">\n",
       "      <th></th>\n",
       "      <th>Y1</th>\n",
       "      <th>Y2</th>\n",
       "    </tr>\n",
       "  </thead>\n",
       "  <tbody>\n",
       "    <tr>\n",
       "      <th>0</th>\n",
       "      <td>15.55</td>\n",
       "      <td>21.33</td>\n",
       "    </tr>\n",
       "    <tr>\n",
       "      <th>1</th>\n",
       "      <td>15.55</td>\n",
       "      <td>21.33</td>\n",
       "    </tr>\n",
       "    <tr>\n",
       "      <th>2</th>\n",
       "      <td>15.55</td>\n",
       "      <td>21.33</td>\n",
       "    </tr>\n",
       "    <tr>\n",
       "      <th>3</th>\n",
       "      <td>15.55</td>\n",
       "      <td>21.33</td>\n",
       "    </tr>\n",
       "    <tr>\n",
       "      <th>4</th>\n",
       "      <td>20.84</td>\n",
       "      <td>28.28</td>\n",
       "    </tr>\n",
       "    <tr>\n",
       "      <th>...</th>\n",
       "      <td>...</td>\n",
       "      <td>...</td>\n",
       "    </tr>\n",
       "    <tr>\n",
       "      <th>763</th>\n",
       "      <td>17.88</td>\n",
       "      <td>21.40</td>\n",
       "    </tr>\n",
       "    <tr>\n",
       "      <th>764</th>\n",
       "      <td>16.54</td>\n",
       "      <td>16.88</td>\n",
       "    </tr>\n",
       "    <tr>\n",
       "      <th>765</th>\n",
       "      <td>16.44</td>\n",
       "      <td>17.11</td>\n",
       "    </tr>\n",
       "    <tr>\n",
       "      <th>766</th>\n",
       "      <td>16.48</td>\n",
       "      <td>16.61</td>\n",
       "    </tr>\n",
       "    <tr>\n",
       "      <th>767</th>\n",
       "      <td>16.64</td>\n",
       "      <td>16.03</td>\n",
       "    </tr>\n",
       "  </tbody>\n",
       "</table>\n",
       "<p>768 rows × 2 columns</p>\n",
       "</div>"
      ],
      "text/plain": [
       "        Y1     Y2\n",
       "0    15.55  21.33\n",
       "1    15.55  21.33\n",
       "2    15.55  21.33\n",
       "3    15.55  21.33\n",
       "4    20.84  28.28\n",
       "..     ...    ...\n",
       "763  17.88  21.40\n",
       "764  16.54  16.88\n",
       "765  16.44  17.11\n",
       "766  16.48  16.61\n",
       "767  16.64  16.03\n",
       "\n",
       "[768 rows x 2 columns]"
      ]
     },
     "execution_count": 287,
     "metadata": {},
     "output_type": "execute_result"
    }
   ],
   "source": [
    "Y"
   ]
  },
  {
   "cell_type": "code",
   "execution_count": 288,
   "id": "5e059a51",
   "metadata": {},
   "outputs": [
    {
     "data": {
      "text/plain": [
       "array([17.86470923, 18.7228384 , 11.51769476, 27.84622902, 18.41213097,\n",
       "        5.54551773, 11.89406404, 29.26969939, 31.95127007, 15.33662108,\n",
       "       28.8466523 , 13.87113556,  9.45176773, 29.64434985, 32.71985973,\n",
       "       17.61221758, 39.64589549, 10.61281404, 30.9766356 , 10.16623351,\n",
       "       28.44289395, 12.74458991, 31.69117512, 28.7377503 , 14.91135815,\n",
       "       25.56926324, 12.42815524, 31.20762267, 28.61566523, 16.07847592,\n",
       "       11.63225026, 11.43208991, 12.77369781, 32.45976478, 31.09451019,\n",
       "       28.50110973, 31.31652466,  8.03842652, 15.38723356, 25.85846609,\n",
       "       15.84748886, 25.8002503 , 30.94752771, 29.04127771, 32.08767971,\n",
       "       39.87688255, 14.94046604, 31.48929594,  8.18208991, 33.89863407,\n",
       "        9.89834826, 34.28313255, 12.63003441, 15.87831558, 33.76626173,\n",
       "       17.20845923, 13.65921604, 11.86495615, 11.08654735, 26.60051324,\n",
       "       31.11464549, 15.79099191, 15.64732852, 32.66164395, 18.69373051,\n",
       "       14.30572063,  6.85801773, 31.14940689,  9.5528057 , 30.31610139,\n",
       "       39.81866677, 16.08019476, 33.50616677, 11.66307698, 31.92216218,\n",
       "       15.18363556, 25.65658691, 14.96197063, 16.09998051, 19.03927308,\n",
       "       29.70513102, 15.19295769, 33.09451019, 26.28407857, 12.54271074,\n",
       "       34.22491677, 13.20656404, 29.0703856 , 25.62747902, 12.36993946,\n",
       "       19.29936803, 28.41378606, 15.41634145, 34.3315003 , 17.32301473,\n",
       "       13.03207393, 26.48595774, 33.93903301, 34.59956723, 34.14091218,\n",
       "        8.79551773, 33.78407857,  9.94896074,  8.44218487, 33.67893805,\n",
       "       28.07721609, 27.47157857, 15.22206558, 11.22849191, 25.75563556,\n",
       "       35.53527466, 11.11565524, 15.44373051, 36.54127771, 29.64691523,\n",
       "        9.83440524, 13.42822897, 12.57942193, 15.83988556, 11.45947897,\n",
       "       28.36309985, 27.26969939, 12.77197897, 30.2578856 , 26.0530915 ,\n",
       "       16.02026014,  7.51426773, 31.64048891, 31.0654023 , 29.58613407,\n",
       "       14.07301473, 12.5700998 , 30.22877771, 18.49185134, 37.43611808,\n",
       "       32.92430429, 37.00325184,  9.11993946, 11.31753441, 31.12361808,\n",
       "       16.28207393, 27.87533691, 36.59949349, 34.11180429, 39.99143805,\n",
       "       18.58490225, 34.6868909 , 16.67651014,  9.78379276,  8.67317193,\n",
       "       16.47463097, 25.59837113, 10.15083991, 13.63010815,  8.06753441,\n",
       "        9.58191359, 32.22877771, 24.94956188, 32.92173891, 22.78902766,\n",
       "       32.1167876 , 14.73858686, 27.41336278, 12.97385815, 10.58370615,\n",
       "       15.92720923, 11.4903057 , 30.28699349,  7.57248351,  9.32181863,\n",
       "        9.69646909, 27.98844939, 13.2263498 , 18.00837262, 17.35212262,\n",
       "       18.26846758, 34.0826964 , 15.4728384 , 24.97866977, 12.83191359,\n",
       "       15.99115225, 28.79596609, 17.77738556,  9.72557698, 30.48887267,\n",
       "        8.41307698, 12.57181863, 17.38123051, 15.86899345, 32.28955888,\n",
       "       12.59920769, 31.03629441, 12.29021909, 31.34563255, 31.29116977,\n",
       "       32.83441523, 18.0665884 , 15.44544934, 32.14589549, 13.00468487,\n",
       "       26.45684985, 10.64192193, 11.92317193, 35.56438255, 29.78801324,\n",
       "       19.09748886, 12.82259145, 32.63253606, 34.3606082 , 29.38425489,\n",
       "       28.87576019, 17.12113556, 13.19724191,  5.6328414 , 29.67602312,\n",
       "       12.79348356, 29.2405915 , 32.34777466,  9.17815524, 16.04176473,\n",
       "       10.23816359, 14.53498886, 12.94475026, 31.66206723, 27.00576304,\n",
       "       35.88076304, 29.28701304, 11.25576304, 32.25576304, 34.59951304,\n",
       "       26.63076304])"
      ]
     },
     "execution_count": 288,
     "metadata": {},
     "output_type": "execute_result"
    }
   ],
   "source": [
    "pred01[:,0]  "
   ]
  },
  {
   "cell_type": "code",
   "execution_count": 289,
   "id": "0aad4fa9",
   "metadata": {},
   "outputs": [],
   "source": [
    "from sklearn.metrics import mean_squared_error\n",
    "from math import sqrt\n",
    "rmse_LR = sqrt(mean_squared_error(Y_test, pred01))        # RMSE of complete Y"
   ]
  },
  {
   "cell_type": "code",
   "execution_count": 290,
   "id": "b21f6fc0",
   "metadata": {},
   "outputs": [],
   "source": [
    "rmse_LR_Y1 = sqrt(mean_squared_error(Y_test.Y1,pred01[:,0]))   #RMSE of Y1\n",
    "rmse_LR_Y2 = sqrt(mean_squared_error(Y_test.Y2,pred01[:,1]))   # RMSE of Y2"
   ]
  },
  {
   "cell_type": "code",
   "execution_count": 291,
   "id": "0689c230",
   "metadata": {},
   "outputs": [],
   "source": [
    "from sklearn.metrics import r2_score\n",
    "R2_LR=np.mean(r2_score(Y_test,pred01))   #R squared score of complete Y\n",
    "R2_LR_Y1=np.mean(r2_score(Y_test.Y1,pred01[:,0]))   #R squared score of Y1\n",
    "R2_LR_Y2=np.mean(r2_score(Y_test.Y2,pred01[:,1]))   #R squared score of Y2"
   ]
  },
  {
   "cell_type": "markdown",
   "id": "efedaa9a",
   "metadata": {},
   "source": [
    "By observing both stats model and sklearn model both outcomes are same. So, we conclude that results of both regresion model is same , it's complete our decision whether to choose any one from it."
   ]
  },
  {
   "cell_type": "markdown",
   "id": "15ea4d69",
   "metadata": {},
   "source": [
    "# Decision Tree"
   ]
  },
  {
   "cell_type": "code",
   "execution_count": 292,
   "id": "a0987289",
   "metadata": {},
   "outputs": [],
   "source": [
    "#Import decision tree regressor\n",
    "from sklearn.tree import DecisionTreeRegressor\n",
    "dt_model = DecisionTreeRegressor(random_state=123)\n",
    "dt_model.fit(X_train, Y_train)\n",
    "y_pred02 = dt_model.predict(X_test)\n",
    "R2_dt = np.mean(r2_score(Y_test, y_pred02))\n",
    "R2_dt_Y1 = np.mean(r2_score(Y_test.Y1, y_pred02[:,0]))\n",
    "R2_dt_Y2 = np.mean(r2_score(Y_test.Y2, y_pred02[:,1]))\n",
    "rmse_dt = sqrt(mean_squared_error(Y_test, y_pred02))\n",
    "rmse_dt_Y1 = sqrt(mean_squared_error(Y_test.Y1, y_pred02[:,0]))\n",
    "rmse_dt_Y2 = sqrt(mean_squared_error(Y_test.Y2, y_pred02[:,1]))"
   ]
  },
  {
   "cell_type": "markdown",
   "id": "e9caa718",
   "metadata": {},
   "source": [
    "# Random Forests"
   ]
  },
  {
   "cell_type": "code",
   "execution_count": 293,
   "id": "2f20afd9",
   "metadata": {},
   "outputs": [],
   "source": [
    "from sklearn.ensemble import RandomForestRegressor\n",
    "rf_model = RandomForestRegressor(random_state=123)\n",
    "rf_model.fit(X_train,Y_train)\n",
    "y_pred03 = rf_model.predict(X_test)\n",
    "R2_rf = np.mean(r2_score(Y_test, y_pred03))\n",
    "rmse_rf = sqrt(mean_squared_error(Y_test, y_pred03))\n",
    "R2_rf_Y1 = np.mean(r2_score(y_test.Y1, y_pred03[:,0]))\n",
    "R2_rf_Y2 = np.mean(r2_score(y_test.Y2, y_pred03[:,1]))\n",
    "rmse_rf_Y1 = sqrt(mean_squared_error(y_test.Y1, y_pred03[:,0]))\n",
    "rmse_rf_Y2 = sqrt(mean_squared_error(y_test.Y2, y_pred03[:,1]))"
   ]
  },
  {
   "cell_type": "markdown",
   "id": "356fb82b",
   "metadata": {},
   "source": [
    "# Extra tree"
   ]
  },
  {
   "cell_type": "code",
   "execution_count": 294,
   "id": "fd615f3d",
   "metadata": {},
   "outputs": [],
   "source": [
    "from sklearn.ensemble import ExtraTreesRegressor\n",
    "et_model = ExtraTreesRegressor(random_state=123)\n",
    "et_model.fit(X_train, y_train)\n",
    "y_pred04 = et_model.predict(X_test)\n",
    "R2_et = np.mean(r2_score(y_test, y_pred04))\n",
    "rmse_et = sqrt(mean_squared_error(Y_test, y_pred04))\n",
    "R2_et_Y1 = np.mean(r2_score(y_test.Y1, y_pred04[:,0]))\n",
    "R2_et_Y2 = np.mean(r2_score(y_test.Y2, y_pred04[:,1]))\n",
    "rmse_et_Y1 = sqrt(mean_squared_error(y_test.Y1, y_pred04[:,0]))\n",
    "rmse_et_Y2 = sqrt(mean_squared_error(y_test.Y2, y_pred04[:,1]))\n"
   ]
  },
  {
   "cell_type": "code",
   "execution_count": 295,
   "id": "3a786661",
   "metadata": {},
   "outputs": [
    {
     "data": {
      "text/html": [
       "<div>\n",
       "<style scoped>\n",
       "    .dataframe tbody tr th:only-of-type {\n",
       "        vertical-align: middle;\n",
       "    }\n",
       "\n",
       "    .dataframe tbody tr th {\n",
       "        vertical-align: top;\n",
       "    }\n",
       "\n",
       "    .dataframe thead th {\n",
       "        text-align: right;\n",
       "    }\n",
       "</style>\n",
       "<table border=\"1\" class=\"dataframe\">\n",
       "  <thead>\n",
       "    <tr style=\"text-align: right;\">\n",
       "      <th></th>\n",
       "      <th>Model</th>\n",
       "      <th>R2 Score</th>\n",
       "      <th>R2 Score_Y1</th>\n",
       "      <th>R2 Score_Y2</th>\n",
       "      <th>RMSE Value</th>\n",
       "      <th>RMSE_Y1 Value</th>\n",
       "      <th>RMSE_Y2 Value</th>\n",
       "    </tr>\n",
       "  </thead>\n",
       "  <tbody>\n",
       "    <tr>\n",
       "      <th>0</th>\n",
       "      <td>Linear Regression</td>\n",
       "      <td>0.912039</td>\n",
       "      <td>0.922807</td>\n",
       "      <td>0.901271</td>\n",
       "      <td>2.908806</td>\n",
       "      <td>2.806453</td>\n",
       "      <td>3.007678</td>\n",
       "    </tr>\n",
       "    <tr>\n",
       "      <th>1</th>\n",
       "      <td>Decision Tree</td>\n",
       "      <td>0.971544</td>\n",
       "      <td>0.996166</td>\n",
       "      <td>0.946921</td>\n",
       "      <td>1.620887</td>\n",
       "      <td>0.625451</td>\n",
       "      <td>2.205302</td>\n",
       "    </tr>\n",
       "    <tr>\n",
       "      <th>2</th>\n",
       "      <td>Extra Tree</td>\n",
       "      <td>0.977775</td>\n",
       "      <td>0.997233</td>\n",
       "      <td>0.958317</td>\n",
       "      <td>1.432052</td>\n",
       "      <td>0.531315</td>\n",
       "      <td>1.954291</td>\n",
       "    </tr>\n",
       "    <tr>\n",
       "      <th>3</th>\n",
       "      <td>Random Forest</td>\n",
       "      <td>0.979325</td>\n",
       "      <td>0.997157</td>\n",
       "      <td>0.961493</td>\n",
       "      <td>1.381727</td>\n",
       "      <td>0.538596</td>\n",
       "      <td>1.878365</td>\n",
       "    </tr>\n",
       "  </tbody>\n",
       "</table>\n",
       "</div>"
      ],
      "text/plain": [
       "               Model  R2 Score  R2 Score_Y1  R2 Score_Y2  RMSE Value  \\\n",
       "0  Linear Regression  0.912039     0.922807     0.901271    2.908806   \n",
       "1      Decision Tree  0.971544     0.996166     0.946921    1.620887   \n",
       "2         Extra Tree  0.977775     0.997233     0.958317    1.432052   \n",
       "3      Random Forest  0.979325     0.997157     0.961493    1.381727   \n",
       "\n",
       "   RMSE_Y1 Value  RMSE_Y2 Value  \n",
       "0       2.806453       3.007678  \n",
       "1       0.625451       2.205302  \n",
       "2       0.531315       1.954291  \n",
       "3       0.538596       1.878365  "
      ]
     },
     "execution_count": 295,
     "metadata": {},
     "output_type": "execute_result"
    }
   ],
   "source": [
    "models= pd.DataFrame({ \n",
    "\"Model\" : [\"Linear Regression\",\"Decision Tree\",\"Extra Tree\",\"Random Forest\"], \n",
    "\"R2 Score\" : [R2_LR,R2_dt,R2_et,R2_rf], \"R2 Score_Y1\" : [R2_LR_Y1,R2_dt_Y1,R2_et_Y1,R2_rf_Y1], \"R2 Score_Y2\" : [R2_LR_Y2,R2_dt_Y2,R2_et_Y2,R2_rf_Y2],\n",
    "\"RMSE Value\" : [rmse_LR,rmse_dt,rmse_et,rmse_rf], \"RMSE_Y1 Value\" : [rmse_LR_Y1,rmse_dt_Y1,rmse_et_Y1,rmse_rf_Y1], \"RMSE_Y2 Value\" : [rmse_LR_Y2,rmse_dt_Y2,rmse_et_Y2,rmse_rf_Y2]\n",
    "           })\n",
    "models\n",
    "models.sort_values(by=\"R2 Score\")"
   ]
  },
  {
   "cell_type": "markdown",
   "id": "b8c3a1fd",
   "metadata": {},
   "source": [
    "By looking at the R2 score and RMSE for both dependent variables Heating load and cooling load, the model Random Forest performs better. So the Energy Efficiency prediction model is built using Random Forest."
   ]
  },
  {
   "cell_type": "markdown",
   "id": "d98361a2",
   "metadata": {},
   "source": [
    "Storing the model into file"
   ]
  },
  {
   "cell_type": "code",
   "execution_count": 296,
   "id": "a3a05a74",
   "metadata": {},
   "outputs": [],
   "source": [
    "import pickle\n",
    "# save the model to disk\n",
    "filename = 'EE_model_RF.pkl'\n",
    "pickle.dump(rf_model, open(filename, 'wb'))"
   ]
  },
  {
   "cell_type": "code",
   "execution_count": 297,
   "id": "cff3a7f9",
   "metadata": {},
   "outputs": [
    {
     "data": {
      "text/html": [
       "<div>\n",
       "<style scoped>\n",
       "    .dataframe tbody tr th:only-of-type {\n",
       "        vertical-align: middle;\n",
       "    }\n",
       "\n",
       "    .dataframe tbody tr th {\n",
       "        vertical-align: top;\n",
       "    }\n",
       "\n",
       "    .dataframe thead th {\n",
       "        text-align: right;\n",
       "    }\n",
       "</style>\n",
       "<table border=\"1\" class=\"dataframe\">\n",
       "  <thead>\n",
       "    <tr style=\"text-align: right;\">\n",
       "      <th></th>\n",
       "      <th>X1</th>\n",
       "      <th>X2</th>\n",
       "      <th>X3</th>\n",
       "      <th>X4</th>\n",
       "      <th>X5</th>\n",
       "      <th>X6</th>\n",
       "      <th>X7</th>\n",
       "      <th>X8</th>\n",
       "    </tr>\n",
       "  </thead>\n",
       "  <tbody>\n",
       "    <tr>\n",
       "      <th>0</th>\n",
       "      <td>0.98</td>\n",
       "      <td>514.5</td>\n",
       "      <td>294.0</td>\n",
       "      <td>110.25</td>\n",
       "      <td>7.0</td>\n",
       "      <td>2</td>\n",
       "      <td>0.1</td>\n",
       "      <td>1</td>\n",
       "    </tr>\n",
       "    <tr>\n",
       "      <th>1</th>\n",
       "      <td>0.90</td>\n",
       "      <td>563.5</td>\n",
       "      <td>318.5</td>\n",
       "      <td>122.50</td>\n",
       "      <td>7.0</td>\n",
       "      <td>3</td>\n",
       "      <td>0.1</td>\n",
       "      <td>1</td>\n",
       "    </tr>\n",
       "    <tr>\n",
       "      <th>2</th>\n",
       "      <td>0.86</td>\n",
       "      <td>588.0</td>\n",
       "      <td>294.0</td>\n",
       "      <td>147.00</td>\n",
       "      <td>7.0</td>\n",
       "      <td>4</td>\n",
       "      <td>0.1</td>\n",
       "      <td>1</td>\n",
       "    </tr>\n",
       "    <tr>\n",
       "      <th>3</th>\n",
       "      <td>0.82</td>\n",
       "      <td>612.0</td>\n",
       "      <td>318.5</td>\n",
       "      <td>147.00</td>\n",
       "      <td>7.0</td>\n",
       "      <td>5</td>\n",
       "      <td>0.1</td>\n",
       "      <td>1</td>\n",
       "    </tr>\n",
       "    <tr>\n",
       "      <th>4</th>\n",
       "      <td>0.79</td>\n",
       "      <td>637.0</td>\n",
       "      <td>343.0</td>\n",
       "      <td>147.00</td>\n",
       "      <td>7.0</td>\n",
       "      <td>2</td>\n",
       "      <td>0.1</td>\n",
       "      <td>1</td>\n",
       "    </tr>\n",
       "  </tbody>\n",
       "</table>\n",
       "</div>"
      ],
      "text/plain": [
       "     X1     X2     X3      X4   X5  X6   X7  X8\n",
       "0  0.98  514.5  294.0  110.25  7.0   2  0.1   1\n",
       "1  0.90  563.5  318.5  122.50  7.0   3  0.1   1\n",
       "2  0.86  588.0  294.0  147.00  7.0   4  0.1   1\n",
       "3  0.82  612.0  318.5  147.00  7.0   5  0.1   1\n",
       "4  0.79  637.0  343.0  147.00  7.0   2  0.1   1"
      ]
     },
     "execution_count": 297,
     "metadata": {},
     "output_type": "execute_result"
    }
   ],
   "source": [
    "a={'X1':[0.98,0.90,0.86,0.82,0.79],'X2':[514.50,563.50,588.00,612.00,637.00],'X3':[294.00,318.50,294.00,318.50,343.00],'X4':[110.25,122.50,147.00,147.00,147.00],'X5':[7.00,7.00,7.00,7.00,7.00],'X6':[2,3,4,5,2],'X7':[0.10,0.10,0.10,0.10,0.10],'X8':[1,1,1,1,1]}\n",
    "b=pd.DataFrame.from_dict(a)\n",
    "b"
   ]
  },
  {
   "cell_type": "code",
   "execution_count": 298,
   "id": "894a30da",
   "metadata": {},
   "outputs": [
    {
     "data": {
      "text/html": [
       "<div>\n",
       "<style scoped>\n",
       "    .dataframe tbody tr th:only-of-type {\n",
       "        vertical-align: middle;\n",
       "    }\n",
       "\n",
       "    .dataframe tbody tr th {\n",
       "        vertical-align: top;\n",
       "    }\n",
       "\n",
       "    .dataframe thead th {\n",
       "        text-align: right;\n",
       "    }\n",
       "</style>\n",
       "<table border=\"1\" class=\"dataframe\">\n",
       "  <thead>\n",
       "    <tr style=\"text-align: right;\">\n",
       "      <th></th>\n",
       "      <th>X1</th>\n",
       "      <th>X2</th>\n",
       "      <th>X3</th>\n",
       "      <th>X4</th>\n",
       "      <th>X5</th>\n",
       "      <th>X6</th>\n",
       "      <th>X7</th>\n",
       "      <th>X8</th>\n",
       "    </tr>\n",
       "  </thead>\n",
       "  <tbody>\n",
       "    <tr>\n",
       "      <th>0</th>\n",
       "      <td>0.98</td>\n",
       "      <td>514.5</td>\n",
       "      <td>294.0</td>\n",
       "      <td>110.25</td>\n",
       "      <td>7.0</td>\n",
       "      <td>2</td>\n",
       "      <td>0.1</td>\n",
       "      <td>1</td>\n",
       "    </tr>\n",
       "  </tbody>\n",
       "</table>\n",
       "</div>"
      ],
      "text/plain": [
       "     X1     X2     X3      X4   X5  X6   X7  X8\n",
       "0  0.98  514.5  294.0  110.25  7.0   2  0.1   1"
      ]
     },
     "execution_count": 298,
     "metadata": {},
     "output_type": "execute_result"
    }
   ],
   "source": [
    "a={'X1':[0.98],'X2':[514.50],'X3':[294.00],'X4':[110.25],'X5':[7.00],'X6':[2],'X7':[0.10],'X8':[1]}\n",
    "b=pd.DataFrame.from_dict(a)\n",
    "b"
   ]
  },
  {
   "cell_type": "code",
   "execution_count": 299,
   "id": "3e6f0532",
   "metadata": {},
   "outputs": [],
   "source": [
    "# load the model from disk\n",
    "loaded_model = pickle.load(open(filename, 'rb'))\n",
    "result = loaded_model.predict(b)"
   ]
  },
  {
   "cell_type": "code",
   "execution_count": 300,
   "id": "3adad08e",
   "metadata": {},
   "outputs": [
    {
     "data": {
      "text/plain": [
       "array([[24.5938, 26.4074]])"
      ]
     },
     "execution_count": 300,
     "metadata": {},
     "output_type": "execute_result"
    }
   ],
   "source": [
    "result"
   ]
  },
  {
   "cell_type": "code",
   "execution_count": 301,
   "id": "fe6fa78c",
   "metadata": {},
   "outputs": [
    {
     "data": {
      "text/plain": [
       "24.59380000000001"
      ]
     },
     "execution_count": 301,
     "metadata": {},
     "output_type": "execute_result"
    }
   ],
   "source": [
    "float(result[:,0])"
   ]
  },
  {
   "cell_type": "code",
   "execution_count": 302,
   "id": "1f368ade",
   "metadata": {},
   "outputs": [
    {
     "data": {
      "text/plain": [
       "24.59"
      ]
     },
     "execution_count": 302,
     "metadata": {},
     "output_type": "execute_result"
    }
   ],
   "source": [
    "t=np.around(result[:,0],2)\n",
    "float(t)"
   ]
  },
  {
   "cell_type": "code",
   "execution_count": 303,
   "id": "be1235e4",
   "metadata": {},
   "outputs": [
    {
     "name": "stdout",
     "output_type": "stream",
     "text": [
      "The value of Heating load is 24.59380000000001 \n",
      "\n"
     ]
    }
   ],
   "source": [
    "print(\"The value of Heating load is\",float(result[:,0]),\"\\n\")"
   ]
  },
  {
   "cell_type": "code",
   "execution_count": 304,
   "id": "4d47b075",
   "metadata": {},
   "outputs": [
    {
     "name": "stdout",
     "output_type": "stream",
     "text": [
      "The value of Cooling load is 26.40739999999996 \n",
      "\n"
     ]
    }
   ],
   "source": [
    "print(\"The value of Cooling load is\",float(result[:,1]),\"\\n\")"
   ]
  }
 ],
 "metadata": {
  "kernelspec": {
   "display_name": "Python 3",
   "language": "python",
   "name": "python3"
  },
  "language_info": {
   "codemirror_mode": {
    "name": "ipython",
    "version": 3
   },
   "file_extension": ".py",
   "mimetype": "text/x-python",
   "name": "python",
   "nbconvert_exporter": "python",
   "pygments_lexer": "ipython3",
   "version": "3.8.8"
  }
 },
 "nbformat": 4,
 "nbformat_minor": 5
}
